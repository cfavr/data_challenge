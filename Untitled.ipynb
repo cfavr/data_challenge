{
 "cells": [
  {
   "cell_type": "code",
   "execution_count": 1,
   "id": "eb3bb4f0",
   "metadata": {},
   "outputs": [],
   "source": [
    "import pandas as pd\n",
    "\n",
    "data = pd.read_csv('data/train.csv', index_col = 0, dtype={'multiple_full_time_jobs': 'boolean', 'combined_multiple_jobs': 'boolean'}).reset_index(drop=True)\n",
    "strCols = data.select_dtypes(object).columns\n",
    "for i in strCols:\n",
    "    data[i] = data[i].str.strip()\n",
    "#data = data.sample(frac=0.1)\n",
    "data = data.fillna(True)\n",
    "data.HIREDT = data.HIREDT.apply(pd.to_datetime, format = \"%m/%d/%y\")\n",
    "data['daysexperience'] = (pd.to_datetime('10/7/23', format = \"%m/%d/%y\") - data.HIREDT ).dt.days\n",
    "data_num = ['RATE', 'HRSWKD', 'daysexperience']\n",
    "data_drop = ['AGY', 'HIREDT']#, 'multiple_full_time_jobs', 'combined_multiple_jobs']\n",
    "data.drop(data_drop, axis=1, inplace=True)\n",
    "\n",
    "important_features = ['daysexperience', 'RATE', 'RACE', 'SEX', 'MI', 'HRSWKD', 'JC.TITLE']\n"
   ]
  },
  {
   "cell_type": "code",
   "execution_count": 2,
   "id": "dc1a90ad",
   "metadata": {},
   "outputs": [],
   "source": [
    "data_to_onehot = ['NAME', 'MI', 'JOBCLASS', 'JC.TITLE', 'RACE', 'SEX', 'EMPTYPE', 'STATENUM', 'multiple_full_time_jobs', 'combined_multiple_jobs']"
   ]
  },
  {
   "cell_type": "code",
   "execution_count": 3,
   "id": "ea829211",
   "metadata": {},
   "outputs": [],
   "source": [
    "#data = data[important_features + ['ANNUAL']]\n",
    "#data_to_onehot = list(set(important_features) & set(data_to_onehot))"
   ]
  },
  {
   "cell_type": "code",
   "execution_count": 4,
   "id": "649f76b1",
   "metadata": {
    "scrolled": false
   },
   "outputs": [
    {
     "data": {
      "text/plain": [
       "NAME                       0\n",
       "MI                         0\n",
       "JOBCLASS                   0\n",
       "JC.TITLE                   0\n",
       "RACE                       0\n",
       "SEX                        0\n",
       "EMPTYPE                    0\n",
       "RATE                       0\n",
       "HRSWKD                     0\n",
       "ANNUAL                     0\n",
       "STATENUM                   0\n",
       "multiple_full_time_jobs    0\n",
       "combined_multiple_jobs     0\n",
       "daysexperience             0\n",
       "dtype: int64"
      ]
     },
     "execution_count": 4,
     "metadata": {},
     "output_type": "execute_result"
    }
   ],
   "source": [
    "data.isna().sum()"
   ]
  },
  {
   "cell_type": "code",
   "execution_count": 5,
   "id": "273ec900",
   "metadata": {},
   "outputs": [
    {
     "data": {
      "text/plain": [
       "NAME                          113\n",
       "MI                             27\n",
       "JOBCLASS                     1666\n",
       "JC.TITLE                     1608\n",
       "RACE                            6\n",
       "SEX                             2\n",
       "EMPTYPE                         9\n",
       "RATE                          169\n",
       "HRSWKD                         47\n",
       "ANNUAL                      28485\n",
       "STATENUM                   112582\n",
       "multiple_full_time_jobs         1\n",
       "combined_multiple_jobs          1\n",
       "daysexperience               5684\n",
       "dtype: int64"
      ]
     },
     "execution_count": 5,
     "metadata": {},
     "output_type": "execute_result"
    }
   ],
   "source": [
    "data.nunique()"
   ]
  },
  {
   "cell_type": "code",
   "execution_count": 6,
   "id": "adb902b1",
   "metadata": {
    "scrolled": true
   },
   "outputs": [
    {
     "data": {
      "text/html": [
       "<div>\n",
       "<style scoped>\n",
       "    .dataframe tbody tr th:only-of-type {\n",
       "        vertical-align: middle;\n",
       "    }\n",
       "\n",
       "    .dataframe tbody tr th {\n",
       "        vertical-align: top;\n",
       "    }\n",
       "\n",
       "    .dataframe thead th {\n",
       "        text-align: right;\n",
       "    }\n",
       "</style>\n",
       "<table border=\"1\" class=\"dataframe\">\n",
       "  <thead>\n",
       "    <tr style=\"text-align: right;\">\n",
       "      <th></th>\n",
       "      <th>NAME</th>\n",
       "      <th>MI</th>\n",
       "      <th>JOBCLASS</th>\n",
       "      <th>JC.TITLE</th>\n",
       "      <th>RACE</th>\n",
       "      <th>SEX</th>\n",
       "      <th>EMPTYPE</th>\n",
       "      <th>RATE</th>\n",
       "      <th>HRSWKD</th>\n",
       "      <th>ANNUAL</th>\n",
       "      <th>STATENUM</th>\n",
       "      <th>multiple_full_time_jobs</th>\n",
       "      <th>combined_multiple_jobs</th>\n",
       "      <th>daysexperience</th>\n",
       "    </tr>\n",
       "  </thead>\n",
       "  <tbody>\n",
       "    <tr>\n",
       "      <th>0</th>\n",
       "      <td>TEXAS HIGHER EDUCATION COORDINATING BOARD</td>\n",
       "      <td>C</td>\n",
       "      <td>7040</td>\n",
       "      <td>PROJECT MANAGER</td>\n",
       "      <td>BLACK</td>\n",
       "      <td>FEMALE</td>\n",
       "      <td>URF - UNCLASSIFIED REGULAR FULL-TIME</td>\n",
       "      <td>0.0000</td>\n",
       "      <td>40.0</td>\n",
       "      <td>75000.00</td>\n",
       "      <td>32448</td>\n",
       "      <td>True</td>\n",
       "      <td>True</td>\n",
       "      <td>310</td>\n",
       "    </tr>\n",
       "    <tr>\n",
       "      <th>1</th>\n",
       "      <td>SENATE</td>\n",
       "      <td></td>\n",
       "      <td>7104</td>\n",
       "      <td>LEGISLATIVE PROFESSIONAL</td>\n",
       "      <td>WHITE</td>\n",
       "      <td>FEMALE</td>\n",
       "      <td>URF - UNCLASSIFIED REGULAR FULL-TIME</td>\n",
       "      <td>0.0000</td>\n",
       "      <td>41.0</td>\n",
       "      <td>65199.96</td>\n",
       "      <td>37375</td>\n",
       "      <td>True</td>\n",
       "      <td>True</td>\n",
       "      <td>6820</td>\n",
       "    </tr>\n",
       "    <tr>\n",
       "      <th>2</th>\n",
       "      <td>COMPTROLLER OF PUBLIC ACCOUNTS, JUDICIARY SECTION</td>\n",
       "      <td>J</td>\n",
       "      <td>JD25</td>\n",
       "      <td>JUDGE, RETIRED</td>\n",
       "      <td>WHITE</td>\n",
       "      <td>MALE</td>\n",
       "      <td>URP - UNCLASSIFIED REGULAR PART-TIME</td>\n",
       "      <td>75.9615</td>\n",
       "      <td>29.0</td>\n",
       "      <td>114549.84</td>\n",
       "      <td>59115</td>\n",
       "      <td>True</td>\n",
       "      <td>True</td>\n",
       "      <td>1344</td>\n",
       "    </tr>\n",
       "    <tr>\n",
       "      <th>3</th>\n",
       "      <td>SCHOOL FOR THE BLIND AND VISUALLY IMPAIRED</td>\n",
       "      <td>T</td>\n",
       "      <td>7354</td>\n",
       "      <td>LIBRARY ASSISTANT II</td>\n",
       "      <td>WHITE</td>\n",
       "      <td>MALE</td>\n",
       "      <td>CRP - CLASSIFIED REGULAR PART-TIME</td>\n",
       "      <td>0.0000</td>\n",
       "      <td>20.0</td>\n",
       "      <td>21865.68</td>\n",
       "      <td>79455</td>\n",
       "      <td>True</td>\n",
       "      <td>True</td>\n",
       "      <td>8766</td>\n",
       "    </tr>\n",
       "    <tr>\n",
       "      <th>4</th>\n",
       "      <td>SCHOOL FOR THE BLIND AND VISUALLY IMPAIRED</td>\n",
       "      <td>T</td>\n",
       "      <td>154</td>\n",
       "      <td>ADMINISTRATIVE ASSISTANT III</td>\n",
       "      <td>WHITE</td>\n",
       "      <td>MALE</td>\n",
       "      <td>CRP - CLASSIFIED REGULAR PART-TIME</td>\n",
       "      <td>0.0000</td>\n",
       "      <td>20.0</td>\n",
       "      <td>20294.76</td>\n",
       "      <td>79455</td>\n",
       "      <td>True</td>\n",
       "      <td>True</td>\n",
       "      <td>8766</td>\n",
       "    </tr>\n",
       "    <tr>\n",
       "      <th>...</th>\n",
       "      <td>...</td>\n",
       "      <td>...</td>\n",
       "      <td>...</td>\n",
       "      <td>...</td>\n",
       "      <td>...</td>\n",
       "      <td>...</td>\n",
       "      <td>...</td>\n",
       "      <td>...</td>\n",
       "      <td>...</td>\n",
       "      <td>...</td>\n",
       "      <td>...</td>\n",
       "      <td>...</td>\n",
       "      <td>...</td>\n",
       "      <td>...</td>\n",
       "    </tr>\n",
       "    <tr>\n",
       "      <th>112588</th>\n",
       "      <td>STATE AUDITOR'S OFFICE</td>\n",
       "      <td>H</td>\n",
       "      <td>AUD2</td>\n",
       "      <td>AUDITOR II</td>\n",
       "      <td>WHITE</td>\n",
       "      <td>MALE</td>\n",
       "      <td>URF - UNCLASSIFIED REGULAR FULL-TIME</td>\n",
       "      <td>0.0000</td>\n",
       "      <td>40.0</td>\n",
       "      <td>50000.04</td>\n",
       "      <td>1576395</td>\n",
       "      <td>True</td>\n",
       "      <td>True</td>\n",
       "      <td>279</td>\n",
       "    </tr>\n",
       "    <tr>\n",
       "      <th>112589</th>\n",
       "      <td>STATE AUDITOR'S OFFICE</td>\n",
       "      <td>T</td>\n",
       "      <td>AUD2</td>\n",
       "      <td>AUDITOR II</td>\n",
       "      <td>WHITE</td>\n",
       "      <td>MALE</td>\n",
       "      <td>URF - UNCLASSIFIED REGULAR FULL-TIME</td>\n",
       "      <td>0.0000</td>\n",
       "      <td>40.0</td>\n",
       "      <td>54000.00</td>\n",
       "      <td>1576407</td>\n",
       "      <td>True</td>\n",
       "      <td>True</td>\n",
       "      <td>279</td>\n",
       "    </tr>\n",
       "    <tr>\n",
       "      <th>112590</th>\n",
       "      <td>STATE AUDITOR'S OFFICE</td>\n",
       "      <td>H</td>\n",
       "      <td>AUD2</td>\n",
       "      <td>AUDITOR II</td>\n",
       "      <td>WHITE</td>\n",
       "      <td>MALE</td>\n",
       "      <td>URF - UNCLASSIFIED REGULAR FULL-TIME</td>\n",
       "      <td>0.0000</td>\n",
       "      <td>40.0</td>\n",
       "      <td>50000.04</td>\n",
       "      <td>1576554</td>\n",
       "      <td>True</td>\n",
       "      <td>True</td>\n",
       "      <td>279</td>\n",
       "    </tr>\n",
       "    <tr>\n",
       "      <th>112591</th>\n",
       "      <td>STATE AUDITOR'S OFFICE</td>\n",
       "      <td>N</td>\n",
       "      <td>AUD4</td>\n",
       "      <td>AUDITOR IV</td>\n",
       "      <td>HISPANIC</td>\n",
       "      <td>FEMALE</td>\n",
       "      <td>URF - UNCLASSIFIED REGULAR FULL-TIME</td>\n",
       "      <td>0.0000</td>\n",
       "      <td>40.0</td>\n",
       "      <td>68000.04</td>\n",
       "      <td>1577374</td>\n",
       "      <td>True</td>\n",
       "      <td>True</td>\n",
       "      <td>279</td>\n",
       "    </tr>\n",
       "    <tr>\n",
       "      <th>112592</th>\n",
       "      <td>TEXAS COMMISSION ON FIRE PROTECTION</td>\n",
       "      <td>M</td>\n",
       "      <td>1784</td>\n",
       "      <td>TRAINING AND DEV SPEC IV</td>\n",
       "      <td>OTHER</td>\n",
       "      <td>FEMALE</td>\n",
       "      <td>CRF - CLASSIFIED REGULAR FULL-TIME</td>\n",
       "      <td>0.0000</td>\n",
       "      <td>40.0</td>\n",
       "      <td>51999.96</td>\n",
       "      <td>1579244</td>\n",
       "      <td>True</td>\n",
       "      <td>True</td>\n",
       "      <td>250</td>\n",
       "    </tr>\n",
       "  </tbody>\n",
       "</table>\n",
       "<p>112593 rows × 14 columns</p>\n",
       "</div>"
      ],
      "text/plain": [
       "                                                     NAME MI JOBCLASS  \\\n",
       "0               TEXAS HIGHER EDUCATION COORDINATING BOARD  C     7040   \n",
       "1                                                  SENATE        7104   \n",
       "2       COMPTROLLER OF PUBLIC ACCOUNTS, JUDICIARY SECTION  J     JD25   \n",
       "3              SCHOOL FOR THE BLIND AND VISUALLY IMPAIRED  T     7354   \n",
       "4              SCHOOL FOR THE BLIND AND VISUALLY IMPAIRED  T      154   \n",
       "...                                                   ... ..      ...   \n",
       "112588                             STATE AUDITOR'S OFFICE  H     AUD2   \n",
       "112589                             STATE AUDITOR'S OFFICE  T     AUD2   \n",
       "112590                             STATE AUDITOR'S OFFICE  H     AUD2   \n",
       "112591                             STATE AUDITOR'S OFFICE  N     AUD4   \n",
       "112592                TEXAS COMMISSION ON FIRE PROTECTION  M     1784   \n",
       "\n",
       "                            JC.TITLE      RACE     SEX  \\\n",
       "0                    PROJECT MANAGER     BLACK  FEMALE   \n",
       "1           LEGISLATIVE PROFESSIONAL     WHITE  FEMALE   \n",
       "2                     JUDGE, RETIRED     WHITE    MALE   \n",
       "3               LIBRARY ASSISTANT II     WHITE    MALE   \n",
       "4       ADMINISTRATIVE ASSISTANT III     WHITE    MALE   \n",
       "...                              ...       ...     ...   \n",
       "112588                    AUDITOR II     WHITE    MALE   \n",
       "112589                    AUDITOR II     WHITE    MALE   \n",
       "112590                    AUDITOR II     WHITE    MALE   \n",
       "112591                    AUDITOR IV  HISPANIC  FEMALE   \n",
       "112592      TRAINING AND DEV SPEC IV     OTHER  FEMALE   \n",
       "\n",
       "                                     EMPTYPE     RATE  HRSWKD     ANNUAL  \\\n",
       "0       URF - UNCLASSIFIED REGULAR FULL-TIME   0.0000    40.0   75000.00   \n",
       "1       URF - UNCLASSIFIED REGULAR FULL-TIME   0.0000    41.0   65199.96   \n",
       "2       URP - UNCLASSIFIED REGULAR PART-TIME  75.9615    29.0  114549.84   \n",
       "3         CRP - CLASSIFIED REGULAR PART-TIME   0.0000    20.0   21865.68   \n",
       "4         CRP - CLASSIFIED REGULAR PART-TIME   0.0000    20.0   20294.76   \n",
       "...                                      ...      ...     ...        ...   \n",
       "112588  URF - UNCLASSIFIED REGULAR FULL-TIME   0.0000    40.0   50000.04   \n",
       "112589  URF - UNCLASSIFIED REGULAR FULL-TIME   0.0000    40.0   54000.00   \n",
       "112590  URF - UNCLASSIFIED REGULAR FULL-TIME   0.0000    40.0   50000.04   \n",
       "112591  URF - UNCLASSIFIED REGULAR FULL-TIME   0.0000    40.0   68000.04   \n",
       "112592    CRF - CLASSIFIED REGULAR FULL-TIME   0.0000    40.0   51999.96   \n",
       "\n",
       "        STATENUM  multiple_full_time_jobs  combined_multiple_jobs  \\\n",
       "0          32448                     True                    True   \n",
       "1          37375                     True                    True   \n",
       "2          59115                     True                    True   \n",
       "3          79455                     True                    True   \n",
       "4          79455                     True                    True   \n",
       "...          ...                      ...                     ...   \n",
       "112588   1576395                     True                    True   \n",
       "112589   1576407                     True                    True   \n",
       "112590   1576554                     True                    True   \n",
       "112591   1577374                     True                    True   \n",
       "112592   1579244                     True                    True   \n",
       "\n",
       "        daysexperience  \n",
       "0                  310  \n",
       "1                 6820  \n",
       "2                 1344  \n",
       "3                 8766  \n",
       "4                 8766  \n",
       "...                ...  \n",
       "112588             279  \n",
       "112589             279  \n",
       "112590             279  \n",
       "112591             279  \n",
       "112592             250  \n",
       "\n",
       "[112593 rows x 14 columns]"
      ]
     },
     "execution_count": 6,
     "metadata": {},
     "output_type": "execute_result"
    }
   ],
   "source": [
    "data"
   ]
  },
  {
   "cell_type": "code",
   "execution_count": 7,
   "id": "6f5734de",
   "metadata": {},
   "outputs": [],
   "source": [
    "from sklearn.preprocessing import OneHotEncoder\n",
    "from sklearn.compose import make_column_transformer\n",
    "from sklearn.pipeline import Pipeline\n",
    "from sklearn.linear_model import LinearRegression\n",
    "from sklearn.preprocessing import PolynomialFeatures\n",
    "from sklearn.linear_model import Ridge\n",
    "from sklearn.compose import TransformedTargetRegressor\n",
    "import numpy as np\n",
    "import scipy as sp\n",
    "#regressor = LinearRegression(n_jobs=-1) np.log10 sp.special.exp10\n",
    "regressor = TransformedTargetRegressor(\n",
    "        regressor=Ridge(alpha=1e-10), func=None, inverse_func=None\n",
    "    )\n",
    "transformer = make_column_transformer(\n",
    "    (OneHotEncoder(handle_unknown = 'infrequent_if_exist', drop='if_binary'), data_to_onehot),\n",
    "    remainder = 'passthrough',\n",
    ")\n",
    "pipe = Pipeline([('transformer', transformer), ('regressor', regressor)])"
   ]
  },
  {
   "cell_type": "markdown",
   "id": "c3061469",
   "metadata": {},
   "source": [
    "transformed = transformer.fit_transform(data)\n",
    "transformed_df = pd.DataFrame(\n",
    "    transformed, \n",
    "    columns=transformer.get_feature_names()\n",
    ")\n",
    "transformed_df"
   ]
  },
  {
   "cell_type": "code",
   "execution_count": 8,
   "id": "8534dc1a",
   "metadata": {},
   "outputs": [],
   "source": [
    "#data_onehot = pd.get_dummies(data, columns=data_to_onehot)"
   ]
  },
  {
   "cell_type": "code",
   "execution_count": 9,
   "id": "032851ab",
   "metadata": {},
   "outputs": [],
   "source": [
    "from sklearn.model_selection import train_test_split\n",
    "X = data.drop('ANNUAL', axis=1)\n",
    "y = data.ANNUAL\n",
    "\n",
    "X_train, X_test, y_train, y_test = train_test_split(X, y, test_size=1/3)"
   ]
  },
  {
   "cell_type": "markdown",
   "id": "56f740ab",
   "metadata": {},
   "source": [
    "outliers_level = 0.05/100\n",
    "d01 = y_train.quantile(q=outliers_level)\n",
    "d99 = y_train.quantile(q=1-outliers_level)\n",
    "\n",
    "outliers = y_train.index[(y_train < d01) | (y_train > d99)].tolist()\n",
    "\n",
    "X_train.drop(outliers, inplace=True)\n",
    "y_train.drop(outliers, inplace=True)"
   ]
  },
  {
   "cell_type": "code",
   "execution_count": 10,
   "id": "ec89ad14",
   "metadata": {},
   "outputs": [
    {
     "data": {
      "text/html": [
       "<style>#sk-container-id-1 {color: black;background-color: white;}#sk-container-id-1 pre{padding: 0;}#sk-container-id-1 div.sk-toggleable {background-color: white;}#sk-container-id-1 label.sk-toggleable__label {cursor: pointer;display: block;width: 100%;margin-bottom: 0;padding: 0.3em;box-sizing: border-box;text-align: center;}#sk-container-id-1 label.sk-toggleable__label-arrow:before {content: \"▸\";float: left;margin-right: 0.25em;color: #696969;}#sk-container-id-1 label.sk-toggleable__label-arrow:hover:before {color: black;}#sk-container-id-1 div.sk-estimator:hover label.sk-toggleable__label-arrow:before {color: black;}#sk-container-id-1 div.sk-toggleable__content {max-height: 0;max-width: 0;overflow: hidden;text-align: left;background-color: #f0f8ff;}#sk-container-id-1 div.sk-toggleable__content pre {margin: 0.2em;color: black;border-radius: 0.25em;background-color: #f0f8ff;}#sk-container-id-1 input.sk-toggleable__control:checked~div.sk-toggleable__content {max-height: 200px;max-width: 100%;overflow: auto;}#sk-container-id-1 input.sk-toggleable__control:checked~label.sk-toggleable__label-arrow:before {content: \"▾\";}#sk-container-id-1 div.sk-estimator input.sk-toggleable__control:checked~label.sk-toggleable__label {background-color: #d4ebff;}#sk-container-id-1 div.sk-label input.sk-toggleable__control:checked~label.sk-toggleable__label {background-color: #d4ebff;}#sk-container-id-1 input.sk-hidden--visually {border: 0;clip: rect(1px 1px 1px 1px);clip: rect(1px, 1px, 1px, 1px);height: 1px;margin: -1px;overflow: hidden;padding: 0;position: absolute;width: 1px;}#sk-container-id-1 div.sk-estimator {font-family: monospace;background-color: #f0f8ff;border: 1px dotted black;border-radius: 0.25em;box-sizing: border-box;margin-bottom: 0.5em;}#sk-container-id-1 div.sk-estimator:hover {background-color: #d4ebff;}#sk-container-id-1 div.sk-parallel-item::after {content: \"\";width: 100%;border-bottom: 1px solid gray;flex-grow: 1;}#sk-container-id-1 div.sk-label:hover label.sk-toggleable__label {background-color: #d4ebff;}#sk-container-id-1 div.sk-serial::before {content: \"\";position: absolute;border-left: 1px solid gray;box-sizing: border-box;top: 0;bottom: 0;left: 50%;z-index: 0;}#sk-container-id-1 div.sk-serial {display: flex;flex-direction: column;align-items: center;background-color: white;padding-right: 0.2em;padding-left: 0.2em;position: relative;}#sk-container-id-1 div.sk-item {position: relative;z-index: 1;}#sk-container-id-1 div.sk-parallel {display: flex;align-items: stretch;justify-content: center;background-color: white;position: relative;}#sk-container-id-1 div.sk-item::before, #sk-container-id-1 div.sk-parallel-item::before {content: \"\";position: absolute;border-left: 1px solid gray;box-sizing: border-box;top: 0;bottom: 0;left: 50%;z-index: -1;}#sk-container-id-1 div.sk-parallel-item {display: flex;flex-direction: column;z-index: 1;position: relative;background-color: white;}#sk-container-id-1 div.sk-parallel-item:first-child::after {align-self: flex-end;width: 50%;}#sk-container-id-1 div.sk-parallel-item:last-child::after {align-self: flex-start;width: 50%;}#sk-container-id-1 div.sk-parallel-item:only-child::after {width: 0;}#sk-container-id-1 div.sk-dashed-wrapped {border: 1px dashed gray;margin: 0 0.4em 0.5em 0.4em;box-sizing: border-box;padding-bottom: 0.4em;background-color: white;}#sk-container-id-1 div.sk-label label {font-family: monospace;font-weight: bold;display: inline-block;line-height: 1.2em;}#sk-container-id-1 div.sk-label-container {text-align: center;}#sk-container-id-1 div.sk-container {/* jupyter's `normalize.less` sets `[hidden] { display: none; }` but bootstrap.min.css set `[hidden] { display: none !important; }` so we also need the `!important` here to be able to override the default hidden behavior on the sphinx rendered scikit-learn.org. See: https://github.com/scikit-learn/scikit-learn/issues/21755 */display: inline-block !important;position: relative;}#sk-container-id-1 div.sk-text-repr-fallback {display: none;}</style><div id=\"sk-container-id-1\" class=\"sk-top-container\"><div class=\"sk-text-repr-fallback\"><pre>Pipeline(steps=[(&#x27;transformer&#x27;,\n",
       "                 ColumnTransformer(remainder=&#x27;passthrough&#x27;,\n",
       "                                   transformers=[(&#x27;onehotencoder&#x27;,\n",
       "                                                  OneHotEncoder(drop=&#x27;if_binary&#x27;,\n",
       "                                                                handle_unknown=&#x27;infrequent_if_exist&#x27;),\n",
       "                                                  [&#x27;NAME&#x27;, &#x27;MI&#x27;, &#x27;JOBCLASS&#x27;,\n",
       "                                                   &#x27;JC.TITLE&#x27;, &#x27;RACE&#x27;, &#x27;SEX&#x27;,\n",
       "                                                   &#x27;EMPTYPE&#x27;, &#x27;STATENUM&#x27;,\n",
       "                                                   &#x27;multiple_full_time_jobs&#x27;,\n",
       "                                                   &#x27;combined_multiple_jobs&#x27;])])),\n",
       "                (&#x27;regressor&#x27;,\n",
       "                 TransformedTargetRegressor(regressor=Ridge(alpha=1e-10)))])</pre><b>In a Jupyter environment, please rerun this cell to show the HTML representation or trust the notebook. <br />On GitHub, the HTML representation is unable to render, please try loading this page with nbviewer.org.</b></div><div class=\"sk-container\" hidden><div class=\"sk-item sk-dashed-wrapped\"><div class=\"sk-label-container\"><div class=\"sk-label sk-toggleable\"><input class=\"sk-toggleable__control sk-hidden--visually\" id=\"sk-estimator-id-1\" type=\"checkbox\" ><label for=\"sk-estimator-id-1\" class=\"sk-toggleable__label sk-toggleable__label-arrow\">Pipeline</label><div class=\"sk-toggleable__content\"><pre>Pipeline(steps=[(&#x27;transformer&#x27;,\n",
       "                 ColumnTransformer(remainder=&#x27;passthrough&#x27;,\n",
       "                                   transformers=[(&#x27;onehotencoder&#x27;,\n",
       "                                                  OneHotEncoder(drop=&#x27;if_binary&#x27;,\n",
       "                                                                handle_unknown=&#x27;infrequent_if_exist&#x27;),\n",
       "                                                  [&#x27;NAME&#x27;, &#x27;MI&#x27;, &#x27;JOBCLASS&#x27;,\n",
       "                                                   &#x27;JC.TITLE&#x27;, &#x27;RACE&#x27;, &#x27;SEX&#x27;,\n",
       "                                                   &#x27;EMPTYPE&#x27;, &#x27;STATENUM&#x27;,\n",
       "                                                   &#x27;multiple_full_time_jobs&#x27;,\n",
       "                                                   &#x27;combined_multiple_jobs&#x27;])])),\n",
       "                (&#x27;regressor&#x27;,\n",
       "                 TransformedTargetRegressor(regressor=Ridge(alpha=1e-10)))])</pre></div></div></div><div class=\"sk-serial\"><div class=\"sk-item sk-dashed-wrapped\"><div class=\"sk-label-container\"><div class=\"sk-label sk-toggleable\"><input class=\"sk-toggleable__control sk-hidden--visually\" id=\"sk-estimator-id-2\" type=\"checkbox\" ><label for=\"sk-estimator-id-2\" class=\"sk-toggleable__label sk-toggleable__label-arrow\">transformer: ColumnTransformer</label><div class=\"sk-toggleable__content\"><pre>ColumnTransformer(remainder=&#x27;passthrough&#x27;,\n",
       "                  transformers=[(&#x27;onehotencoder&#x27;,\n",
       "                                 OneHotEncoder(drop=&#x27;if_binary&#x27;,\n",
       "                                               handle_unknown=&#x27;infrequent_if_exist&#x27;),\n",
       "                                 [&#x27;NAME&#x27;, &#x27;MI&#x27;, &#x27;JOBCLASS&#x27;, &#x27;JC.TITLE&#x27;, &#x27;RACE&#x27;,\n",
       "                                  &#x27;SEX&#x27;, &#x27;EMPTYPE&#x27;, &#x27;STATENUM&#x27;,\n",
       "                                  &#x27;multiple_full_time_jobs&#x27;,\n",
       "                                  &#x27;combined_multiple_jobs&#x27;])])</pre></div></div></div><div class=\"sk-parallel\"><div class=\"sk-parallel-item\"><div class=\"sk-item\"><div class=\"sk-label-container\"><div class=\"sk-label sk-toggleable\"><input class=\"sk-toggleable__control sk-hidden--visually\" id=\"sk-estimator-id-3\" type=\"checkbox\" ><label for=\"sk-estimator-id-3\" class=\"sk-toggleable__label sk-toggleable__label-arrow\">onehotencoder</label><div class=\"sk-toggleable__content\"><pre>[&#x27;NAME&#x27;, &#x27;MI&#x27;, &#x27;JOBCLASS&#x27;, &#x27;JC.TITLE&#x27;, &#x27;RACE&#x27;, &#x27;SEX&#x27;, &#x27;EMPTYPE&#x27;, &#x27;STATENUM&#x27;, &#x27;multiple_full_time_jobs&#x27;, &#x27;combined_multiple_jobs&#x27;]</pre></div></div></div><div class=\"sk-serial\"><div class=\"sk-item\"><div class=\"sk-estimator sk-toggleable\"><input class=\"sk-toggleable__control sk-hidden--visually\" id=\"sk-estimator-id-4\" type=\"checkbox\" ><label for=\"sk-estimator-id-4\" class=\"sk-toggleable__label sk-toggleable__label-arrow\">OneHotEncoder</label><div class=\"sk-toggleable__content\"><pre>OneHotEncoder(drop=&#x27;if_binary&#x27;, handle_unknown=&#x27;infrequent_if_exist&#x27;)</pre></div></div></div></div></div></div><div class=\"sk-parallel-item\"><div class=\"sk-item\"><div class=\"sk-label-container\"><div class=\"sk-label sk-toggleable\"><input class=\"sk-toggleable__control sk-hidden--visually\" id=\"sk-estimator-id-5\" type=\"checkbox\" ><label for=\"sk-estimator-id-5\" class=\"sk-toggleable__label sk-toggleable__label-arrow\">remainder</label><div class=\"sk-toggleable__content\"><pre>[&#x27;RATE&#x27;, &#x27;HRSWKD&#x27;, &#x27;daysexperience&#x27;]</pre></div></div></div><div class=\"sk-serial\"><div class=\"sk-item\"><div class=\"sk-estimator sk-toggleable\"><input class=\"sk-toggleable__control sk-hidden--visually\" id=\"sk-estimator-id-6\" type=\"checkbox\" ><label for=\"sk-estimator-id-6\" class=\"sk-toggleable__label sk-toggleable__label-arrow\">passthrough</label><div class=\"sk-toggleable__content\"><pre>passthrough</pre></div></div></div></div></div></div></div></div><div class=\"sk-item sk-dashed-wrapped\"><div class=\"sk-label-container\"><div class=\"sk-label sk-toggleable\"><input class=\"sk-toggleable__control sk-hidden--visually\" id=\"sk-estimator-id-7\" type=\"checkbox\" ><label for=\"sk-estimator-id-7\" class=\"sk-toggleable__label sk-toggleable__label-arrow\">regressor: TransformedTargetRegressor</label><div class=\"sk-toggleable__content\"><pre>TransformedTargetRegressor(regressor=Ridge(alpha=1e-10))</pre></div></div></div><div class=\"sk-parallel\"><div class=\"sk-parallel-item\"><div class=\"sk-item\"><div class=\"sk-label-container\"><div class=\"sk-label sk-toggleable\"><input class=\"sk-toggleable__control sk-hidden--visually\" id=\"sk-estimator-id-8\" type=\"checkbox\" ><label for=\"sk-estimator-id-8\" class=\"sk-toggleable__label sk-toggleable__label-arrow\">regressor: Ridge</label><div class=\"sk-toggleable__content\"><pre>Ridge(alpha=1e-10)</pre></div></div></div><div class=\"sk-serial\"><div class=\"sk-item\"><div class=\"sk-estimator sk-toggleable\"><input class=\"sk-toggleable__control sk-hidden--visually\" id=\"sk-estimator-id-9\" type=\"checkbox\" ><label for=\"sk-estimator-id-9\" class=\"sk-toggleable__label sk-toggleable__label-arrow\">Ridge</label><div class=\"sk-toggleable__content\"><pre>Ridge(alpha=1e-10)</pre></div></div></div></div></div></div></div></div></div></div></div></div>"
      ],
      "text/plain": [
       "Pipeline(steps=[('transformer',\n",
       "                 ColumnTransformer(remainder='passthrough',\n",
       "                                   transformers=[('onehotencoder',\n",
       "                                                  OneHotEncoder(drop='if_binary',\n",
       "                                                                handle_unknown='infrequent_if_exist'),\n",
       "                                                  ['NAME', 'MI', 'JOBCLASS',\n",
       "                                                   'JC.TITLE', 'RACE', 'SEX',\n",
       "                                                   'EMPTYPE', 'STATENUM',\n",
       "                                                   'multiple_full_time_jobs',\n",
       "                                                   'combined_multiple_jobs'])])),\n",
       "                ('regressor',\n",
       "                 TransformedTargetRegressor(regressor=Ridge(alpha=1e-10)))])"
      ]
     },
     "execution_count": 10,
     "metadata": {},
     "output_type": "execute_result"
    }
   ],
   "source": [
    "pipe.fit(X_train, y_train)"
   ]
  },
  {
   "cell_type": "code",
   "execution_count": 11,
   "id": "c029c81d",
   "metadata": {},
   "outputs": [
    {
     "name": "stderr",
     "output_type": "stream",
     "text": [
      "/Users/clement/.virtualenvs/jupyter/lib/python3.11/site-packages/sklearn/preprocessing/_encoders.py:202: UserWarning: Found unknown categories in columns [2, 3, 7] during transform. These unknown categories will be encoded as all zeros\n",
      "  warnings.warn(\n"
     ]
    }
   ],
   "source": [
    "y_pred = pipe.predict(X_test)"
   ]
  },
  {
   "cell_type": "code",
   "execution_count": 19,
   "id": "433d399d",
   "metadata": {},
   "outputs": [
    {
     "data": {
      "text/html": [
       "<div>\n",
       "<style scoped>\n",
       "    .dataframe tbody tr th:only-of-type {\n",
       "        vertical-align: middle;\n",
       "    }\n",
       "\n",
       "    .dataframe tbody tr th {\n",
       "        vertical-align: top;\n",
       "    }\n",
       "\n",
       "    .dataframe thead th {\n",
       "        text-align: right;\n",
       "    }\n",
       "</style>\n",
       "<table border=\"1\" class=\"dataframe\">\n",
       "  <thead>\n",
       "    <tr style=\"text-align: right;\">\n",
       "      <th></th>\n",
       "      <th>NAME</th>\n",
       "      <th>MI</th>\n",
       "      <th>JOBCLASS</th>\n",
       "      <th>JC.TITLE</th>\n",
       "      <th>RACE</th>\n",
       "      <th>SEX</th>\n",
       "      <th>EMPTYPE</th>\n",
       "      <th>RATE</th>\n",
       "      <th>HRSWKD</th>\n",
       "      <th>STATENUM</th>\n",
       "      <th>multiple_full_time_jobs</th>\n",
       "      <th>combined_multiple_jobs</th>\n",
       "      <th>daysexperience</th>\n",
       "    </tr>\n",
       "  </thead>\n",
       "  <tbody>\n",
       "    <tr>\n",
       "      <th>30819</th>\n",
       "      <td>TEXAS DEPARTMENT OF TRANSPORTATION</td>\n",
       "      <td>E</td>\n",
       "      <td>1933</td>\n",
       "      <td>PURCHASER IV</td>\n",
       "      <td>WHITE</td>\n",
       "      <td>MALE</td>\n",
       "      <td>CRF - CLASSIFIED REGULAR FULL-TIME</td>\n",
       "      <td>0.0</td>\n",
       "      <td>40.0</td>\n",
       "      <td>150592</td>\n",
       "      <td>True</td>\n",
       "      <td>True</td>\n",
       "      <td>9273</td>\n",
       "    </tr>\n",
       "    <tr>\n",
       "      <th>44264</th>\n",
       "      <td>TEXAS DEPARTMENT OF MOTOR VEHICLES</td>\n",
       "      <td>L</td>\n",
       "      <td>134</td>\n",
       "      <td>CUSTOMER SERVICE REP III</td>\n",
       "      <td>WHITE</td>\n",
       "      <td>FEMALE</td>\n",
       "      <td>CRF - CLASSIFIED REGULAR FULL-TIME</td>\n",
       "      <td>0.0</td>\n",
       "      <td>40.0</td>\n",
       "      <td>336001</td>\n",
       "      <td>True</td>\n",
       "      <td>True</td>\n",
       "      <td>3841</td>\n",
       "    </tr>\n",
       "    <tr>\n",
       "      <th>105186</th>\n",
       "      <td>HEALTH AND HUMAN SERVICES COMMISSION</td>\n",
       "      <td></td>\n",
       "      <td>5620</td>\n",
       "      <td>TEXAS WORKS ADVISOR I</td>\n",
       "      <td>BLACK</td>\n",
       "      <td>FEMALE</td>\n",
       "      <td>CRF - CLASSIFIED REGULAR FULL-TIME</td>\n",
       "      <td>0.0</td>\n",
       "      <td>40.0</td>\n",
       "      <td>1484660</td>\n",
       "      <td>True</td>\n",
       "      <td>True</td>\n",
       "      <td>432</td>\n",
       "    </tr>\n",
       "    <tr>\n",
       "      <th>25314</th>\n",
       "      <td>TEXAS DEPARTMENT OF CRIMINAL JUSTICE</td>\n",
       "      <td>W</td>\n",
       "      <td>4505</td>\n",
       "      <td>CORREC  OFFICER V</td>\n",
       "      <td>BLACK</td>\n",
       "      <td>FEMALE</td>\n",
       "      <td>CRF - CLASSIFIED REGULAR FULL-TIME</td>\n",
       "      <td>0.0</td>\n",
       "      <td>40.0</td>\n",
       "      <td>123170</td>\n",
       "      <td>True</td>\n",
       "      <td>True</td>\n",
       "      <td>3008</td>\n",
       "    </tr>\n",
       "    <tr>\n",
       "      <th>24680</th>\n",
       "      <td>HEALTH AND HUMAN SERVICES COMMISSION</td>\n",
       "      <td></td>\n",
       "      <td>5632</td>\n",
       "      <td>TEXAS WORKS SUPERVISOR II</td>\n",
       "      <td>BLACK</td>\n",
       "      <td>FEMALE</td>\n",
       "      <td>CRF - CLASSIFIED REGULAR FULL-TIME</td>\n",
       "      <td>0.0</td>\n",
       "      <td>40.0</td>\n",
       "      <td>120130</td>\n",
       "      <td>True</td>\n",
       "      <td>True</td>\n",
       "      <td>5682</td>\n",
       "    </tr>\n",
       "    <tr>\n",
       "      <th>...</th>\n",
       "      <td>...</td>\n",
       "      <td>...</td>\n",
       "      <td>...</td>\n",
       "      <td>...</td>\n",
       "      <td>...</td>\n",
       "      <td>...</td>\n",
       "      <td>...</td>\n",
       "      <td>...</td>\n",
       "      <td>...</td>\n",
       "      <td>...</td>\n",
       "      <td>...</td>\n",
       "      <td>...</td>\n",
       "      <td>...</td>\n",
       "    </tr>\n",
       "    <tr>\n",
       "      <th>102514</th>\n",
       "      <td>TEXAS WORKFORCE COMMISSION</td>\n",
       "      <td>T</td>\n",
       "      <td>1574</td>\n",
       "      <td>PROGRAM SPECIALIST V</td>\n",
       "      <td>WHITE</td>\n",
       "      <td>FEMALE</td>\n",
       "      <td>CRF - CLASSIFIED REGULAR FULL-TIME</td>\n",
       "      <td>0.0</td>\n",
       "      <td>40.0</td>\n",
       "      <td>1468410</td>\n",
       "      <td>True</td>\n",
       "      <td>True</td>\n",
       "      <td>493</td>\n",
       "    </tr>\n",
       "    <tr>\n",
       "      <th>87130</th>\n",
       "      <td>TEXAS DEPARTMENT OF CRIMINAL JUSTICE</td>\n",
       "      <td></td>\n",
       "      <td>4504</td>\n",
       "      <td>CORREC  OFFICER IV</td>\n",
       "      <td>BLACK</td>\n",
       "      <td>FEMALE</td>\n",
       "      <td>CRF - CLASSIFIED REGULAR FULL-TIME</td>\n",
       "      <td>0.0</td>\n",
       "      <td>40.0</td>\n",
       "      <td>1266105</td>\n",
       "      <td>True</td>\n",
       "      <td>True</td>\n",
       "      <td>1237</td>\n",
       "    </tr>\n",
       "    <tr>\n",
       "      <th>5130</th>\n",
       "      <td>HEALTH AND HUMAN SERVICES COMMISSION</td>\n",
       "      <td></td>\n",
       "      <td>4413</td>\n",
       "      <td>NURSE III</td>\n",
       "      <td>BLACK</td>\n",
       "      <td>FEMALE</td>\n",
       "      <td>CRF - CLASSIFIED REGULAR FULL-TIME</td>\n",
       "      <td>0.0</td>\n",
       "      <td>40.0</td>\n",
       "      <td>24866</td>\n",
       "      <td>True</td>\n",
       "      <td>True</td>\n",
       "      <td>4821</td>\n",
       "    </tr>\n",
       "    <tr>\n",
       "      <th>106059</th>\n",
       "      <td>HEALTH AND HUMAN SERVICES COMMISSION</td>\n",
       "      <td></td>\n",
       "      <td>5122</td>\n",
       "      <td>DIRECT SUPPORT PROF II</td>\n",
       "      <td>BLACK</td>\n",
       "      <td>FEMALE</td>\n",
       "      <td>CRF - CLASSIFIED REGULAR FULL-TIME</td>\n",
       "      <td>0.0</td>\n",
       "      <td>40.0</td>\n",
       "      <td>1553027</td>\n",
       "      <td>True</td>\n",
       "      <td>True</td>\n",
       "      <td>390</td>\n",
       "    </tr>\n",
       "    <tr>\n",
       "      <th>4856</th>\n",
       "      <td>HEALTH AND HUMAN SERVICES COMMISSION</td>\n",
       "      <td></td>\n",
       "      <td>5632</td>\n",
       "      <td>TEXAS WORKS SUPERVISOR II</td>\n",
       "      <td>HISPANIC</td>\n",
       "      <td>FEMALE</td>\n",
       "      <td>CRF - CLASSIFIED REGULAR FULL-TIME</td>\n",
       "      <td>0.0</td>\n",
       "      <td>40.0</td>\n",
       "      <td>23645</td>\n",
       "      <td>True</td>\n",
       "      <td>True</td>\n",
       "      <td>5241</td>\n",
       "    </tr>\n",
       "  </tbody>\n",
       "</table>\n",
       "<p>37531 rows × 13 columns</p>\n",
       "</div>"
      ],
      "text/plain": [
       "                                        NAME MI JOBCLASS  \\\n",
       "30819     TEXAS DEPARTMENT OF TRANSPORTATION  E     1933   \n",
       "44264     TEXAS DEPARTMENT OF MOTOR VEHICLES  L      134   \n",
       "105186  HEALTH AND HUMAN SERVICES COMMISSION        5620   \n",
       "25314   TEXAS DEPARTMENT OF CRIMINAL JUSTICE  W     4505   \n",
       "24680   HEALTH AND HUMAN SERVICES COMMISSION        5632   \n",
       "...                                      ... ..      ...   \n",
       "102514            TEXAS WORKFORCE COMMISSION  T     1574   \n",
       "87130   TEXAS DEPARTMENT OF CRIMINAL JUSTICE        4504   \n",
       "5130    HEALTH AND HUMAN SERVICES COMMISSION        4413   \n",
       "106059  HEALTH AND HUMAN SERVICES COMMISSION        5122   \n",
       "4856    HEALTH AND HUMAN SERVICES COMMISSION        5632   \n",
       "\n",
       "                         JC.TITLE      RACE     SEX  \\\n",
       "30819                PURCHASER IV     WHITE    MALE   \n",
       "44264    CUSTOMER SERVICE REP III     WHITE  FEMALE   \n",
       "105186      TEXAS WORKS ADVISOR I     BLACK  FEMALE   \n",
       "25314           CORREC  OFFICER V     BLACK  FEMALE   \n",
       "24680   TEXAS WORKS SUPERVISOR II     BLACK  FEMALE   \n",
       "...                           ...       ...     ...   \n",
       "102514       PROGRAM SPECIALIST V     WHITE  FEMALE   \n",
       "87130          CORREC  OFFICER IV     BLACK  FEMALE   \n",
       "5130                    NURSE III     BLACK  FEMALE   \n",
       "106059     DIRECT SUPPORT PROF II     BLACK  FEMALE   \n",
       "4856    TEXAS WORKS SUPERVISOR II  HISPANIC  FEMALE   \n",
       "\n",
       "                                   EMPTYPE  RATE  HRSWKD  STATENUM  \\\n",
       "30819   CRF - CLASSIFIED REGULAR FULL-TIME   0.0    40.0    150592   \n",
       "44264   CRF - CLASSIFIED REGULAR FULL-TIME   0.0    40.0    336001   \n",
       "105186  CRF - CLASSIFIED REGULAR FULL-TIME   0.0    40.0   1484660   \n",
       "25314   CRF - CLASSIFIED REGULAR FULL-TIME   0.0    40.0    123170   \n",
       "24680   CRF - CLASSIFIED REGULAR FULL-TIME   0.0    40.0    120130   \n",
       "...                                    ...   ...     ...       ...   \n",
       "102514  CRF - CLASSIFIED REGULAR FULL-TIME   0.0    40.0   1468410   \n",
       "87130   CRF - CLASSIFIED REGULAR FULL-TIME   0.0    40.0   1266105   \n",
       "5130    CRF - CLASSIFIED REGULAR FULL-TIME   0.0    40.0     24866   \n",
       "106059  CRF - CLASSIFIED REGULAR FULL-TIME   0.0    40.0   1553027   \n",
       "4856    CRF - CLASSIFIED REGULAR FULL-TIME   0.0    40.0     23645   \n",
       "\n",
       "        multiple_full_time_jobs  combined_multiple_jobs  daysexperience  \n",
       "30819                      True                    True            9273  \n",
       "44264                      True                    True            3841  \n",
       "105186                     True                    True             432  \n",
       "25314                      True                    True            3008  \n",
       "24680                      True                    True            5682  \n",
       "...                         ...                     ...             ...  \n",
       "102514                     True                    True             493  \n",
       "87130                      True                    True            1237  \n",
       "5130                       True                    True            4821  \n",
       "106059                     True                    True             390  \n",
       "4856                       True                    True            5241  \n",
       "\n",
       "[37531 rows x 13 columns]"
      ]
     },
     "execution_count": 19,
     "metadata": {},
     "output_type": "execute_result"
    }
   ],
   "source": [
    "X_test"
   ]
  },
  {
   "cell_type": "code",
   "execution_count": 12,
   "id": "1f97063a",
   "metadata": {},
   "outputs": [
    {
     "name": "stderr",
     "output_type": "stream",
     "text": [
      "/Users/clement/.virtualenvs/jupyter/lib/python3.11/site-packages/sklearn/preprocessing/_encoders.py:202: UserWarning: Found unknown categories in columns [2, 3, 7] during transform. These unknown categories will be encoded as all zeros\n",
      "  warnings.warn(\n"
     ]
    },
    {
     "data": {
      "text/plain": [
       "0.9032700367720815"
      ]
     },
     "execution_count": 12,
     "metadata": {},
     "output_type": "execute_result"
    }
   ],
   "source": [
    "pipe.score(X_test, y_test)"
   ]
  },
  {
   "cell_type": "code",
   "execution_count": 13,
   "id": "d27d0809",
   "metadata": {},
   "outputs": [],
   "source": [
    "res = pd.DataFrame(y_test)\n",
    "res['pred'] = y_pred\n",
    "res['diff'] = res.pred - res.ANNUAL\n",
    "res['diff'] = res['diff'].apply(abs)"
   ]
  },
  {
   "cell_type": "code",
   "execution_count": 14,
   "id": "0ec0f288",
   "metadata": {},
   "outputs": [
    {
     "data": {
      "text/plain": [
       "3888.975520916799"
      ]
     },
     "execution_count": 14,
     "metadata": {},
     "output_type": "execute_result"
    }
   ],
   "source": [
    "res['diff'].mean()"
   ]
  },
  {
   "cell_type": "code",
   "execution_count": 15,
   "id": "51f23e7c",
   "metadata": {},
   "outputs": [
    {
     "data": {
      "text/plain": [
       "0.888626730550136"
      ]
     },
     "execution_count": 15,
     "metadata": {},
     "output_type": "execute_result"
    }
   ],
   "source": [
    "from sklearn.metrics import r2_score\n",
    "r2_score(y_pred, y_test)"
   ]
  },
  {
   "cell_type": "markdown",
   "id": "9f5e2704",
   "metadata": {},
   "source": [
    "cdf = pd.DataFrame(pipe['regressor'].coef_, pipe['transformer'].get_feature_names_out(), columns=['Coefficients'])\n",
    "#print(cdf.loc['onehotencoder__SEX_FEMALE'])\n",
    "print(cdf.loc['onehotencoder__SEX_MALE'])\n",
    "print(cdf.loc['onehotencoder__NAME_ALCOHOLIC BEVERAGE COMMISSION                     '])\n",
    "print(cdf.loc['onehotencoder__NAME_BOARD OF ARCHITECTURAL EXAMINERS                  '])"
   ]
  },
  {
   "cell_type": "code",
   "execution_count": 16,
   "id": "230699fd",
   "metadata": {},
   "outputs": [
    {
     "name": "stderr",
     "output_type": "stream",
     "text": [
      "/Users/clement/.virtualenvs/jupyter/lib/python3.11/site-packages/sklearn/preprocessing/_encoders.py:202: UserWarning: Found unknown categories in columns [2, 3, 7] during transform. These unknown categories will be encoded as all zeros\n",
      "  warnings.warn(\n"
     ]
    },
    {
     "data": {
      "image/png": "[encoded data removed]",
      "text/plain": [
       "<Figure size 500x500 with 1 Axes>"
      ]
     },
     "metadata": {},
     "output_type": "display_data"
    }
   ],
   "source": [
    "from sklearn.metrics import median_absolute_error\n",
    "from sklearn.metrics import PredictionErrorDisplay\n",
    "import matplotlib.pyplot as plt\n",
    "\n",
    "mae_train = median_absolute_error(y_train, pipe.predict(X_train))\n",
    "y_pred = pipe.predict(X_test)\n",
    "mae_test = median_absolute_error(y_test, y_pred)\n",
    "scores = {\n",
    "    \"MedAE on training set\": f\"{mae_train:.2f} $/hour\",\n",
    "    \"MedAE on testing set\": f\"{mae_test:.2f} $/hour\",\n",
    "}\n",
    "\n",
    "_, ax = plt.subplots(figsize=(5, 5))\n",
    "display = PredictionErrorDisplay.from_predictions(\n",
    "    y_test, y_pred, kind=\"actual_vs_predicted\", ax=ax, scatter_kwargs={\"alpha\": 0.5}\n",
    ")\n",
    "ax.set_title(\"Ridge model, small regularization\")\n",
    "for name, score in scores.items():\n",
    "    ax.plot([], [], \" \", label=f\"{name}: {score}\")\n",
    "ax.legend(loc=\"upper left\")\n",
    "plt.tight_layout()"
   ]
  },
  {
   "cell_type": "code",
   "execution_count": 17,
   "id": "40d2d40a",
   "metadata": {},
   "outputs": [
    {
     "data": {
      "text/html": [
       "<div>\n",
       "<style scoped>\n",
       "    .dataframe tbody tr th:only-of-type {\n",
       "        vertical-align: middle;\n",
       "    }\n",
       "\n",
       "    .dataframe tbody tr th {\n",
       "        vertical-align: top;\n",
       "    }\n",
       "\n",
       "    .dataframe thead th {\n",
       "        text-align: right;\n",
       "    }\n",
       "</style>\n",
       "<table border=\"1\" class=\"dataframe\">\n",
       "  <thead>\n",
       "    <tr style=\"text-align: right;\">\n",
       "      <th></th>\n",
       "      <th>Coefficients</th>\n",
       "    </tr>\n",
       "  </thead>\n",
       "  <tbody>\n",
       "    <tr>\n",
       "      <th>onehotencoder__NAME_ALCOHOLIC BEVERAGE COMMISSION</th>\n",
       "      <td>-3.702674e+03</td>\n",
       "    </tr>\n",
       "    <tr>\n",
       "      <th>onehotencoder__NAME_BOARD OF ARCHITECTURAL EXAMINERS</th>\n",
       "      <td>3.813372e+03</td>\n",
       "    </tr>\n",
       "    <tr>\n",
       "      <th>onehotencoder__NAME_BOARD OF CHIROPRACTIC EXAMINERS</th>\n",
       "      <td>-9.336596e+03</td>\n",
       "    </tr>\n",
       "    <tr>\n",
       "      <th>onehotencoder__NAME_BOARD OF NURSE EXAMINERS</th>\n",
       "      <td>-4.078107e+02</td>\n",
       "    </tr>\n",
       "    <tr>\n",
       "      <th>onehotencoder__NAME_BOARD OF PHARMACY</th>\n",
       "      <td>-8.796438e+03</td>\n",
       "    </tr>\n",
       "    <tr>\n",
       "      <th>...</th>\n",
       "      <td>...</td>\n",
       "    </tr>\n",
       "    <tr>\n",
       "      <th>onehotencoder__multiple_full_time_jobs_1.0</th>\n",
       "      <td>4.297362e-09</td>\n",
       "    </tr>\n",
       "    <tr>\n",
       "      <th>onehotencoder__combined_multiple_jobs_1.0</th>\n",
       "      <td>4.297362e-09</td>\n",
       "    </tr>\n",
       "    <tr>\n",
       "      <th>remainder__RATE</th>\n",
       "      <td>1.069077e+02</td>\n",
       "    </tr>\n",
       "    <tr>\n",
       "      <th>remainder__HRSWKD</th>\n",
       "      <td>1.420415e+03</td>\n",
       "    </tr>\n",
       "    <tr>\n",
       "      <th>remainder__daysexperience</th>\n",
       "      <td>4.520818e-01</td>\n",
       "    </tr>\n",
       "  </tbody>\n",
       "</table>\n",
       "<p>78212 rows × 1 columns</p>\n",
       "</div>"
      ],
      "text/plain": [
       "                                                    Coefficients\n",
       "onehotencoder__NAME_ALCOHOLIC BEVERAGE COMMISSION  -3.702674e+03\n",
       "onehotencoder__NAME_BOARD OF ARCHITECTURAL EXAM...  3.813372e+03\n",
       "onehotencoder__NAME_BOARD OF CHIROPRACTIC EXAMI... -9.336596e+03\n",
       "onehotencoder__NAME_BOARD OF NURSE EXAMINERS       -4.078107e+02\n",
       "onehotencoder__NAME_BOARD OF PHARMACY              -8.796438e+03\n",
       "...                                                          ...\n",
       "onehotencoder__multiple_full_time_jobs_1.0          4.297362e-09\n",
       "onehotencoder__combined_multiple_jobs_1.0           4.297362e-09\n",
       "remainder__RATE                                     1.069077e+02\n",
       "remainder__HRSWKD                                   1.420415e+03\n",
       "remainder__daysexperience                           4.520818e-01\n",
       "\n",
       "[78212 rows x 1 columns]"
      ]
     },
     "execution_count": 17,
     "metadata": {},
     "output_type": "execute_result"
    }
   ],
   "source": [
    "feature_names = pipe[:-1].get_feature_names_out()\n",
    "\n",
    "coefs = pd.DataFrame(\n",
    "    pipe[-1].regressor_.coef_,\n",
    "    columns=[\"Coefficients\"],\n",
    "    index=feature_names,\n",
    ")\n",
    "\n",
    "coefs"
   ]
  },
  {
   "cell_type": "code",
   "execution_count": 18,
   "id": "eba5086a",
   "metadata": {},
   "outputs": [
    {
     "ename": "SyntaxError",
     "evalue": "incomplete input (410991462.py, line 2)",
     "output_type": "error",
     "traceback": [
      "\u001b[0;36m  Cell \u001b[0;32mIn[18], line 2\u001b[0;36m\u001b[0m\n\u001b[0;31m    print(\u001b[0m\n\u001b[0m          ^\u001b[0m\n\u001b[0;31mSyntaxError\u001b[0m\u001b[0;31m:\u001b[0m incomplete input\n"
     ]
    }
   ],
   "source": [
    "#stop here\n",
    "print("
   ]
  },
  {
   "cell_type": "code",
   "execution_count": null,
   "id": "edff6db8",
   "metadata": {},
   "outputs": [],
   "source": [
    "type(pipe[-1].regressor_.coef_)"
   ]
  },
  {
   "cell_type": "code",
   "execution_count": null,
   "id": "e9aa328b",
   "metadata": {},
   "outputs": [],
   "source": [
    "X_train_preprocessed = pd.DataFrame.sparse.from_spmatrix((pipe[:-1].transform(X_train)), columns=feature_names).apply(pd.to_numeric)"
   ]
  },
  {
   "cell_type": "code",
   "execution_count": null,
   "id": "6f65c6c2",
   "metadata": {},
   "outputs": [],
   "source": [
    "import pandas as pd\n",
    "import numpy as np\n",
    "\n",
    "# Assuming df is your DataFrame with Sparse data type\n",
    "stds = {}\n",
    "for col in X_train_preprocessed.columns:\n",
    "    if pd.api.types.is_numeric_dtype(X_train_preprocessed[col]):\n",
    "        dense_col = X_train_preprocessed[col].sparse.to_dense()  # Convert only the current column to dense\n",
    "        stds[col] = np.std(dense_col)\n",
    "\n",
    "std_series = pd.Series(stds)\n"
   ]
  },
  {
   "cell_type": "code",
   "execution_count": null,
   "id": "690e647b",
   "metadata": {},
   "outputs": [],
   "source": [
    "coefs = pd.DataFrame(\n",
    "    std_series,\n",
    "    columns=[\"Coefficient importance\"],\n",
    "    index=feature_names,\n",
    ")"
   ]
  },
  {
   "cell_type": "code",
   "execution_count": null,
   "id": "ed0dd37d",
   "metadata": {},
   "outputs": [],
   "source": [
    "coefs.sort_values('Coefficient importance',ascending = False)"
   ]
  },
  {
   "cell_type": "code",
   "execution_count": null,
   "id": "fdbb0cf9",
   "metadata": {},
   "outputs": [],
   "source": [
    "#coefs_top_n = coefs[~coefs.index.str.startswith(('onehotencoder__STATENUM', 'onehotencoder__JC', 'onehotencoder__JOB'))].sort_values('Coefficient importance',ascending = False).head(50)\n",
    "coefs_top_n = coefs.sort_values('Coefficient importance',ascending = False).iloc[0:20]\n",
    "\n",
    "\n",
    "coefs_top_n.plot(kind=\"barh\", figsize=(9, 7))\n",
    "plt.xlabel(\"Coefficient values corrected by the feature's std. dev.\")\n",
    "plt.title(\"Ridge model, small regularization\")\n",
    "plt.axvline(x=0, color=\".5\")\n",
    "plt.xscale('log')\n",
    "plt.subplots_adjust(left=0.3)"
   ]
  },
  {
   "cell_type": "code",
   "execution_count": null,
   "id": "d06795bc",
   "metadata": {},
   "outputs": [],
   "source": []
  },
  {
   "cell_type": "code",
   "execution_count": null,
   "id": "b1cd03c7",
   "metadata": {},
   "outputs": [],
   "source": [
    "#coefs_top_n = coefs[~coefs.index.str.startswith(('onehotencoder__STATENUM', 'onehotencoder__JC', 'onehotencoder__JOB'))].sort_values('Coefficients',ascending = False).head(50)\n",
    "coefs_top_n = coefs[~coefs.index.str.startswith(('onehotencoder__STATENUM', 'onehotencoder__JC', 'onehotencoder__JOB'))].sort_values('Coefficients',ascending = False).head(50)"
   ]
  },
  {
   "cell_type": "code",
   "execution_count": null,
   "id": "8f971e4c",
   "metadata": {},
   "outputs": [],
   "source": [
    "print("
   ]
  },
  {
   "cell_type": "code",
   "execution_count": null,
   "id": "bc57d9fa",
   "metadata": {},
   "outputs": [],
   "source": [
    "coefs_top_n.plot.barh(figsize=(9, 7))\n",
    "plt.title(\"Ridge model, small regularization\")\n",
    "plt.axvline(x=0, color=\".5\")\n",
    "plt.xlabel(\"Raw coefficient values\")\n",
    "plt.subplots_adjust(left=0.3)"
   ]
  },
  {
   "cell_type": "code",
   "execution_count": null,
   "id": "15904600",
   "metadata": {},
   "outputs": [],
   "source": [
    "pipe[:-1].transform(X_train)"
   ]
  },
  {
   "cell_type": "code",
   "execution_count": null,
   "id": "e39b34fd",
   "metadata": {},
   "outputs": [],
   "source": [
    "X_train_preprocessed"
   ]
  },
  {
   "cell_type": "code",
   "execution_count": null,
   "id": "67b525e8",
   "metadata": {},
   "outputs": [],
   "source": [
    "X_train_preprocessed[['remainder__HRSWKD']].sparse.to_dense().std()"
   ]
  },
  {
   "cell_type": "code",
   "execution_count": null,
   "id": "5327c63a",
   "metadata": {},
   "outputs": [],
   "source": [
    "X_train_preprocessed[['onehotencoder__NAME_BOARD OF ARCHITECTURAL EXAMINERS']]"
   ]
  },
  {
   "cell_type": "code",
   "execution_count": null,
   "id": "3b76da96",
   "metadata": {
    "scrolled": true
   },
   "outputs": [],
   "source": [
    "X_train_preprocessed.std(axis=0).plot.barh(figsize=(9, 7))\n",
    "plt.title(\"Feature ranges\")\n",
    "plt.xlabel(\"Std. dev. of feature values\")\n",
    "plt.subplots_adjust(left=0.3)"
   ]
  },
  {
   "cell_type": "code",
   "execution_count": null,
   "id": "feafc0cb",
   "metadata": {},
   "outputs": [],
   "source": [
    "coefs = pd.DataFrame(\n",
    "    pipe[-1].regressor_.coef_ * X_train_preprocessed.std(axis=0),\n",
    "    columns=[\"Coefficient importance\"],\n",
    "    index=feature_names,\n",
    ")\n",
    "coefs.plot(kind=\"barh\", figsize=(9, 7))\n",
    "plt.xlabel(\"Coefficient values corrected by the feature's std. dev.\")\n",
    "plt.title(\"Ridge model, small regularization\")\n",
    "plt.axvline(x=0, color=\".5\")\n",
    "plt.subplots_adjust(left=0.3)"
   ]
  }
 ],
 "metadata": {
  "kernelspec": {
   "display_name": "Python 3 (ipykernel)",
   "language": "python",
   "name": "python3"
  },
  "language_info": {
   "codemirror_mode": {
    "name": "ipython",
    "version": 3
   },
   "file_extension": ".py",
   "mimetype": "text/x-python",
   "name": "python",
   "nbconvert_exporter": "python",
   "pygments_lexer": "ipython3",
   "version": "3.11.2"
  }
 },
 "nbformat": 4,
 "nbformat_minor": 5
}
