{
 "cells": [
  {
   "cell_type": "code",
   "execution_count": 1,
   "id": "f6320e5c",
   "metadata": {},
   "outputs": [],
   "source": [
    "import pandas as pd\n",
    "\n",
    "data = pd.read_csv('data/train.csv', index_col = 0, dtype={'multiple_full_time_jobs': 'boolean', 'combined_multiple_jobs': 'boolean'}).reset_index(drop=True)\n",
    "strCols = data.select_dtypes(object).columns\n",
    "for i in strCols:\n",
    "    data[i] = data[i].str.strip()\n",
    "#data = data.sample(frac=0.1)\n",
    "data = data.fillna(True)\n",
    "data.HIREDT = data.HIREDT.apply(pd.to_datetime, format = \"%m/%d/%y\")\n",
    "data['daysexperience'] = (pd.to_datetime('10/7/23', format = \"%m/%d/%y\") - data.HIREDT ).dt.days\n",
    "data_num = ['RATE', 'HRSWKD', 'daysexperience']\n",
    "data_drop = ['AGY', 'HIREDT']#, 'multiple_full_time_jobs', 'combined_multiple_jobs']\n",
    "data.drop(data_drop, axis=1, inplace=True)\n",
    "\n",
    "important_features = ['daysexperience', 'RATE', 'RACE', 'SEX', 'MI', 'HRSWKD', 'JC.TITLE']\n",
    "data_to_onehot = ['NAME', 'MI', 'JOBCLASS', 'JC.TITLE', 'RACE', 'SEX', 'EMPTYPE', 'STATENUM', 'multiple_full_time_jobs', 'combined_multiple_jobs']"
   ]
  },
  {
   "cell_type": "code",
   "execution_count": 2,
   "id": "af06cfcb",
   "metadata": {},
   "outputs": [],
   "source": [
    "from sklearn.model_selection import train_test_split\n",
    "X = data.drop('ANNUAL', axis=1)\n",
    "y = data.ANNUAL\n",
    "\n",
    "X_train, X_test, y_train, y_test = train_test_split(X, y, test_size=1/3)"
   ]
  },
  {
   "cell_type": "code",
   "execution_count": 3,
   "id": "1d08c4c1",
   "metadata": {},
   "outputs": [],
   "source": [
    "from sklearn.preprocessing import OneHotEncoder\n",
    "from sklearn.compose import make_column_transformer\n",
    "from sklearn.pipeline import Pipeline\n",
    "from sklearn.linear_model import LinearRegression\n",
    "from sklearn.preprocessing import PolynomialFeatures\n",
    "from sklearn.linear_model import Ridge\n",
    "from sklearn.linear_model import LassoCV\n",
    "from sklearn.compose import TransformedTargetRegressor\n",
    "from sklearn.preprocessing import StandardScaler\n",
    "import numpy as np\n",
    "import scipy as sp\n",
    "#regressor = LinearRegression(n_jobs=-1) np.log10 sp.special.exp10\n",
    "regressor = TransformedTargetRegressor(\n",
    "        regressor=Ridge(alpha=1e-10), func=None, inverse_func=None\n",
    "    )\n",
    "transformer = make_column_transformer(\n",
    "    (OneHotEncoder(handle_unknown = 'infrequent_if_exist', drop='if_binary'), data_to_onehot),\n",
    "    remainder = 'passthrough',\n",
    ")\n",
    "pipe = Pipeline([\n",
    "    ('transformer', transformer)\n",
    "    #,('stdScaler', StandardScaler(with_mean=False))\n",
    "    #,('regressor', regressor)\n",
    "    ,('regressor', LassoCV(cv=5, random_state=0))\n",
    "])"
   ]
  },
  {
   "cell_type": "code",
   "execution_count": null,
   "id": "3e1fcf1f",
   "metadata": {},
   "outputs": [],
   "source": [
    "pipe.fit(X_train, y_train)\n",
    "pipe.score(X_test, y_test)"
   ]
  }
 ],
 "metadata": {
  "kernelspec": {
   "display_name": "Python 3 (ipykernel)",
   "language": "python",
   "name": "python3"
  },
  "language_info": {
   "codemirror_mode": {
    "name": "ipython",
    "version": 3
   },
   "file_extension": ".py",
   "mimetype": "text/x-python",
   "name": "python",
   "nbconvert_exporter": "python",
   "pygments_lexer": "ipython3",
   "version": "3.11.2"
  }
 },
 "nbformat": 4,
 "nbformat_minor": 5
}
