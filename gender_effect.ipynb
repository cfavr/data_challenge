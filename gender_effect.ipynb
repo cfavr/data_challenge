{
 "cells": [
  {
   "cell_type": "code",
   "execution_count": 1,
   "id": "e1d8d712",
   "metadata": {},
   "outputs": [],
   "source": [
    "import pandas as pd\n",
    "data = pd.read_csv('data/train.csv', index_col = 0, dtype={'multiple_full_time_jobs': 'boolean', 'combined_multiple_jobs': 'boolean'}).reset_index(drop=True)\n",
    "data.SEX = data.SEX.str.strip()\n",
    "data.RACE = data.RACE.str.strip()"
   ]
  },
  {
   "cell_type": "code",
   "execution_count": 2,
   "id": "49d03a11",
   "metadata": {},
   "outputs": [],
   "source": [
    "dataF = data[data.SEX == 'FEMALE'][['SEX', 'ANNUAL']]\n",
    "dataM = data[data.SEX == 'MALE'][['SEX', 'ANNUAL']]"
   ]
  },
  {
   "cell_type": "code",
   "execution_count": 3,
   "id": "594a3562",
   "metadata": {},
   "outputs": [
    {
     "name": "stdout",
     "output_type": "stream",
     "text": [
      "Moyenne du salaire des femmes : 53389.99222724258 $\n",
      "Moyenne du salaire des hommes : 61375.642733632136 $\n"
     ]
    }
   ],
   "source": [
    "print('Moyenne du salaire des femmes :', dataF.ANNUAL.mean(), '$')\n",
    "print('Moyenne du salaire des hommes :', dataM.ANNUAL.mean(), '$')"
   ]
  },
  {
   "cell_type": "code",
   "execution_count": 4,
   "id": "f379aaec",
   "metadata": {},
   "outputs": [
    {
     "data": {
      "text/plain": [
       "Ttest_indResult(statistic=-47.67349465372609, pvalue=0.0)"
      ]
     },
     "execution_count": 4,
     "metadata": {},
     "output_type": "execute_result"
    }
   ],
   "source": [
    "from scipy import stats\n",
    "\n",
    "stats.ttest_ind(dataF.ANNUAL, dataM.ANNUAL, equal_var=False)"
   ]
  },
  {
   "cell_type": "code",
   "execution_count": 7,
   "id": "4681495c",
   "metadata": {},
   "outputs": [
    {
     "name": "stdout",
     "output_type": "stream",
     "text": [
      "0.0\n"
     ]
    }
   ],
   "source": [
    "from scipy.stats import mannwhitneyu\n",
    "_, p = mannwhitneyu(dataF.ANNUAL, dataM.ANNUAL, method=\"auto\")\n",
    "print(p)"
   ]
  }
 ],
 "metadata": {
  "kernelspec": {
   "display_name": "Python 3 (ipykernel)",
   "language": "python",
   "name": "python3"
  },
  "language_info": {
   "codemirror_mode": {
    "name": "ipython",
    "version": 3
   },
   "file_extension": ".py",
   "mimetype": "text/x-python",
   "name": "python",
   "nbconvert_exporter": "python",
   "pygments_lexer": "ipython3",
   "version": "3.11.2"
  }
 },
 "nbformat": 4,
 "nbformat_minor": 5
}
