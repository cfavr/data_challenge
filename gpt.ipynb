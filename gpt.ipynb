{
 "cells": [
  {
   "cell_type": "code",
   "execution_count": 5,
   "id": "8db639af",
   "metadata": {},
   "outputs": [
    {
     "name": "stdout",
     "output_type": "stream",
     "text": [
      "Important features:\n",
      "['NAME_BOARD OF CHIROPRACTIC EXAMINERS                   '\n",
      " 'NAME_CREDIT UNION DEPARTMENT                           '\n",
      " 'NAME_LEGISLATIVE BUDGET BOARD                          '\n",
      " 'NAME_TEXAS DEPARTMENT OF TRANSPORTATION                ' 'JOBCLASS_4483'\n",
      " 'JOBCLASS_E003    '\n",
      " 'JC.TITLE_DOC PROC TECH (SESS)                              '\n",
      " 'JC.TITLE_PSYCHOLOGIST I                                    '\n",
      " 'EMPTYPE_CRF - CLASSIFIED REGULAR FULL-TIME      '\n",
      " 'EMPTYPE_UTF - UNCLASSIFIED TEMPORARY FULL-TIME  ']\n"
     ]
    }
   ],
   "source": [
    "import pandas as pd\n",
    "from sklearn.feature_selection import SelectKBest, f_regression\n",
    "#from sklearn.feature_selection import RFECV\n",
    "from sklearn.linear_model import LinearRegression\n",
    "from sklearn.model_selection import train_test_split\n",
    "from sklearn.preprocessing import StandardScaler, OneHotEncoder\n",
    "from sklearn.compose import ColumnTransformer\n",
    "from sklearn.pipeline import Pipeline\n",
    "\n",
    "# Preprocessing\n",
    "data = pd.read_csv('data/train.csv', index_col = 0, dtype={'multiple_full_time_jobs': 'boolean', 'combined_multiple_jobs': 'boolean'}).reset_index(drop=True)\n",
    "data = data.fillna(True)\n",
    "data['multiple_full_time_jobs'] = data['multiple_full_time_jobs'].astype(int)\n",
    "data['combined_multiple_jobs'] = data['combined_multiple_jobs'].astype(int)\n",
    "\n",
    "# Feature engineering\n",
    "data['daysexperience'] = (pd.to_datetime('10/7/23', format = \"%m/%d/%y\") - pd.to_datetime(data['HIREDT'], format = \"%m/%d/%y\")).dt.days\n",
    "data.drop(['AGY', 'HIREDT'], axis=1, inplace=True)\n",
    "\n",
    "# Preparing the data\n",
    "X = data.drop('ANNUAL', axis=1)\n",
    "y = data['ANNUAL']\n",
    "\n",
    "# Train-test split\n",
    "X_train, X_test, y_train, y_test = train_test_split(X, y, test_size=0.2, random_state=1)\n",
    "\n",
    "X_train, X_val, y_train, y_val = train_test_split(X_train, y_train, test_size=0.25, random_state=1) # 0.25 x 0.8 = 0.2\n",
    "\n",
    "numerical_features = ['RATE', 'HRSWKD', 'daysexperience']\n",
    "categorical_features = ['NAME', 'MI', 'JOBCLASS', 'JC.TITLE', 'RACE', 'SEX', 'EMPTYPE', 'STATENUM', 'multiple_full_time_jobs', 'combined_multiple_jobs']\n",
    "# Column transformer to handle categorical variables\n",
    "preprocessor = ColumnTransformer(\n",
    "    transformers=[\n",
    "        ('num', StandardScaler(), numerical_features),\n",
    "        ('cat', OneHotEncoder(handle_unknown='ignore'), categorical_features)\n",
    "    ])\n",
    "\n",
    "# Create a pipeline\n",
    "estimator = LinearRegression()\n",
    "pipe = Pipeline([('preprocessor', preprocessor), ('estimator', estimator)])\n",
    "\n",
    "# Fit the pipeline on the entire dataset\n",
    "pipe.fit(X_train, y_train)\n",
    "\n",
    "# Feature selection with SelectKBest\n",
    "kbest_selector = SelectKBest(f_regression, k=10)\n",
    "kbest_selector.fit(pipe.named_steps['preprocessor'].transform(X_train), y_train)\n",
    "\n",
    "# Get the indices of the most important features\n",
    "important_feature_indices = kbest_selector.get_support(indices=True)\n",
    "# Get the original column names of the important features\n",
    "important_features = pipe.named_steps['preprocessor'].transformers_[1][1].get_feature_names_out(categorical_features)\n",
    "\n",
    "print(\"Important features:\")\n",
    "print(important_features[important_feature_indices])"
   ]
  },
  {
   "cell_type": "code",
   "execution_count": 7,
   "id": "5fd8939e",
   "metadata": {},
   "outputs": [
    {
     "name": "stdout",
     "output_type": "stream",
     "text": [
      "JC.TITLE: 0.3700 +/- 0.0029\n",
      "JOBCLASS: 0.3544 +/- 0.0031\n",
      "EMPTYPE: 0.1701 +/- 0.0014\n",
      "NAME: 0.1071 +/- 0.0008\n",
      "HRSWKD: 0.0224 +/- 0.0004\n",
      "daysexperience: 0.0038 +/- 0.0001\n",
      "RATE: 0.0010 +/- 0.0001\n",
      "RACE: 0.0004 +/- 0.0000\n",
      "STATENUM: 0.0001 +/- 0.0000\n",
      "MI: 0.0001 +/- 0.0000\n",
      "SEX: 0.0000 +/- 0.0000\n",
      "combined_multiple_jobs: 0.0000 +/- 0.0000\n",
      "multiple_full_time_jobs: 0.0000 +/- 0.0000\n"
     ]
    }
   ],
   "source": [
    "from sklearn.ensemble import RandomForestRegressor\n",
    "from sklearn.inspection import permutation_importance\n",
    "\n",
    "\n",
    "# Calculate permutation importances on the validation set\n",
    "result = permutation_importance(pipe, X_val, y_val, n_repeats=10, random_state=0)\n",
    "\n",
    "# Sort the features by importance\n",
    "sorted_idx = result.importances_mean.argsort()\n",
    "\n",
    "# Print the sorted features and their importances\n",
    "for i in sorted_idx[::-1]:\n",
    "    print(f\"{X.columns[i]}: {result.importances_mean[i]:.4f} +/- {result.importances_std[i]:.4f}\")\n"
   ]
  }
 ],
 "metadata": {
  "kernelspec": {
   "display_name": "Python 3 (ipykernel)",
   "language": "python",
   "name": "python3"
  },
  "language_info": {
   "codemirror_mode": {
    "name": "ipython",
    "version": 3
   },
   "file_extension": ".py",
   "mimetype": "text/x-python",
   "name": "python",
   "nbconvert_exporter": "python",
   "pygments_lexer": "ipython3",
   "version": "3.11.2"
  }
 },
 "nbformat": 4,
 "nbformat_minor": 5
}
