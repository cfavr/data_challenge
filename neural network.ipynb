{
 "cells": [
  {
   "cell_type": "code",
   "execution_count": 1,
   "id": "eb3bb4f0",
   "metadata": {},
   "outputs": [],
   "source": [
    "import pandas as pd\n",
    "\n",
    "data = pd.read_csv('data/train.csv', index_col = 0, dtype={'multiple_full_time_jobs': 'boolean', 'combined_multiple_jobs': 'boolean'}).reset_index(drop=True)\n",
    "#data = data.sample(frac=0.1)\n",
    "data = data.fillna(True)\n",
    "data.HIREDT = data.HIREDT.apply(pd.to_datetime, format = \"%m/%d/%y\")\n",
    "data['daysexperience'] = (pd.to_datetime('10/7/23', format = \"%m/%d/%y\") - data.HIREDT ).dt.days\n",
    "data_num = ['RATE', 'HRSWKD', 'daysexperience']\n",
    "data_drop = ['AGY', 'HIREDT']#, 'multiple_full_time_jobs', 'combined_multiple_jobs']\n",
    "data.drop(data_drop, axis=1, inplace=True)\n",
    "\n",
    "important_features = ['JC.TITLE', 'JOBCLASS', 'EMPTYPE', 'NAME', 'HRSWKD', 'daysexperience']\n"
   ]
  },
  {
   "cell_type": "code",
   "execution_count": 2,
   "id": "59bb82fa",
   "metadata": {},
   "outputs": [],
   "source": [
    "#data = data[important_features + ['ANNUAL']]\n",
    "data_to_onehot = ['NAME', 'MI', 'JOBCLASS', 'JC.TITLE', 'RACE', 'SEX', 'EMPTYPE', 'STATENUM', 'multiple_full_time_jobs', 'combined_multiple_jobs']\n",
    "#data_to_onehot = list(set(important_features) & set(data_to_onehot))"
   ]
  },
  {
   "cell_type": "code",
   "execution_count": 3,
   "id": "649f76b1",
   "metadata": {
    "scrolled": false
   },
   "outputs": [
    {
     "data": {
      "text/plain": [
       "NAME                       0\n",
       "MI                         0\n",
       "JOBCLASS                   0\n",
       "JC.TITLE                   0\n",
       "RACE                       0\n",
       "SEX                        0\n",
       "EMPTYPE                    0\n",
       "RATE                       0\n",
       "HRSWKD                     0\n",
       "ANNUAL                     0\n",
       "STATENUM                   0\n",
       "multiple_full_time_jobs    0\n",
       "combined_multiple_jobs     0\n",
       "daysexperience             0\n",
       "dtype: int64"
      ]
     },
     "execution_count": 3,
     "metadata": {},
     "output_type": "execute_result"
    }
   ],
   "source": [
    "data.isna().sum()"
   ]
  },
  {
   "cell_type": "code",
   "execution_count": 4,
   "id": "273ec900",
   "metadata": {},
   "outputs": [
    {
     "data": {
      "text/plain": [
       "NAME                          113\n",
       "MI                             27\n",
       "JOBCLASS                     1666\n",
       "JC.TITLE                     1608\n",
       "RACE                            6\n",
       "SEX                             2\n",
       "EMPTYPE                         9\n",
       "RATE                          169\n",
       "HRSWKD                         47\n",
       "ANNUAL                      28485\n",
       "STATENUM                   112582\n",
       "multiple_full_time_jobs         1\n",
       "combined_multiple_jobs          1\n",
       "daysexperience               5684\n",
       "dtype: int64"
      ]
     },
     "execution_count": 4,
     "metadata": {},
     "output_type": "execute_result"
    }
   ],
   "source": [
    "data.nunique()"
   ]
  },
  {
   "cell_type": "code",
   "execution_count": 5,
   "id": "adb902b1",
   "metadata": {
    "scrolled": true
   },
   "outputs": [
    {
     "data": {
      "text/html": [
       "<div>\n",
       "<style scoped>\n",
       "    .dataframe tbody tr th:only-of-type {\n",
       "        vertical-align: middle;\n",
       "    }\n",
       "\n",
       "    .dataframe tbody tr th {\n",
       "        vertical-align: top;\n",
       "    }\n",
       "\n",
       "    .dataframe thead th {\n",
       "        text-align: right;\n",
       "    }\n",
       "</style>\n",
       "<table border=\"1\" class=\"dataframe\">\n",
       "  <thead>\n",
       "    <tr style=\"text-align: right;\">\n",
       "      <th></th>\n",
       "      <th>NAME</th>\n",
       "      <th>MI</th>\n",
       "      <th>JOBCLASS</th>\n",
       "      <th>JC.TITLE</th>\n",
       "      <th>RACE</th>\n",
       "      <th>SEX</th>\n",
       "      <th>EMPTYPE</th>\n",
       "      <th>RATE</th>\n",
       "      <th>HRSWKD</th>\n",
       "      <th>ANNUAL</th>\n",
       "      <th>STATENUM</th>\n",
       "      <th>multiple_full_time_jobs</th>\n",
       "      <th>combined_multiple_jobs</th>\n",
       "      <th>daysexperience</th>\n",
       "    </tr>\n",
       "  </thead>\n",
       "  <tbody>\n",
       "    <tr>\n",
       "      <th>0</th>\n",
       "      <td>TEXAS HIGHER EDUCATION COORDINATING BOARD     ...</td>\n",
       "      <td>C</td>\n",
       "      <td>7040</td>\n",
       "      <td>PROJECT MANAGER                               ...</td>\n",
       "      <td>BLACK</td>\n",
       "      <td>FEMALE</td>\n",
       "      <td>URF - UNCLASSIFIED REGULAR FULL-TIME</td>\n",
       "      <td>0.0000</td>\n",
       "      <td>40.0</td>\n",
       "      <td>75000.00</td>\n",
       "      <td>32448</td>\n",
       "      <td>True</td>\n",
       "      <td>True</td>\n",
       "      <td>310</td>\n",
       "    </tr>\n",
       "    <tr>\n",
       "      <th>1</th>\n",
       "      <td>SENATE                                        ...</td>\n",
       "      <td></td>\n",
       "      <td>7104</td>\n",
       "      <td>LEGISLATIVE PROFESSIONAL                      ...</td>\n",
       "      <td>WHITE</td>\n",
       "      <td>FEMALE</td>\n",
       "      <td>URF - UNCLASSIFIED REGULAR FULL-TIME</td>\n",
       "      <td>0.0000</td>\n",
       "      <td>41.0</td>\n",
       "      <td>65199.96</td>\n",
       "      <td>37375</td>\n",
       "      <td>True</td>\n",
       "      <td>True</td>\n",
       "      <td>6820</td>\n",
       "    </tr>\n",
       "    <tr>\n",
       "      <th>2</th>\n",
       "      <td>COMPTROLLER OF PUBLIC ACCOUNTS, JUDICIARY SECT...</td>\n",
       "      <td>J</td>\n",
       "      <td>JD25</td>\n",
       "      <td>JUDGE, RETIRED                                ...</td>\n",
       "      <td>WHITE</td>\n",
       "      <td>MALE</td>\n",
       "      <td>URP - UNCLASSIFIED REGULAR PART-TIME</td>\n",
       "      <td>75.9615</td>\n",
       "      <td>29.0</td>\n",
       "      <td>114549.84</td>\n",
       "      <td>59115</td>\n",
       "      <td>True</td>\n",
       "      <td>True</td>\n",
       "      <td>1344</td>\n",
       "    </tr>\n",
       "    <tr>\n",
       "      <th>3</th>\n",
       "      <td>SCHOOL FOR THE BLIND AND VISUALLY IMPAIRED    ...</td>\n",
       "      <td>T</td>\n",
       "      <td>7354</td>\n",
       "      <td>LIBRARY ASSISTANT II                          ...</td>\n",
       "      <td>WHITE</td>\n",
       "      <td>MALE</td>\n",
       "      <td>CRP - CLASSIFIED REGULAR PART-TIME</td>\n",
       "      <td>0.0000</td>\n",
       "      <td>20.0</td>\n",
       "      <td>21865.68</td>\n",
       "      <td>79455</td>\n",
       "      <td>True</td>\n",
       "      <td>True</td>\n",
       "      <td>8766</td>\n",
       "    </tr>\n",
       "    <tr>\n",
       "      <th>4</th>\n",
       "      <td>SCHOOL FOR THE BLIND AND VISUALLY IMPAIRED    ...</td>\n",
       "      <td>T</td>\n",
       "      <td>154</td>\n",
       "      <td>ADMINISTRATIVE ASSISTANT III                  ...</td>\n",
       "      <td>WHITE</td>\n",
       "      <td>MALE</td>\n",
       "      <td>CRP - CLASSIFIED REGULAR PART-TIME</td>\n",
       "      <td>0.0000</td>\n",
       "      <td>20.0</td>\n",
       "      <td>20294.76</td>\n",
       "      <td>79455</td>\n",
       "      <td>True</td>\n",
       "      <td>True</td>\n",
       "      <td>8766</td>\n",
       "    </tr>\n",
       "    <tr>\n",
       "      <th>...</th>\n",
       "      <td>...</td>\n",
       "      <td>...</td>\n",
       "      <td>...</td>\n",
       "      <td>...</td>\n",
       "      <td>...</td>\n",
       "      <td>...</td>\n",
       "      <td>...</td>\n",
       "      <td>...</td>\n",
       "      <td>...</td>\n",
       "      <td>...</td>\n",
       "      <td>...</td>\n",
       "      <td>...</td>\n",
       "      <td>...</td>\n",
       "      <td>...</td>\n",
       "    </tr>\n",
       "    <tr>\n",
       "      <th>112588</th>\n",
       "      <td>STATE AUDITOR'S OFFICE                        ...</td>\n",
       "      <td>H</td>\n",
       "      <td>AUD2</td>\n",
       "      <td>AUDITOR II                                    ...</td>\n",
       "      <td>WHITE</td>\n",
       "      <td>MALE</td>\n",
       "      <td>URF - UNCLASSIFIED REGULAR FULL-TIME</td>\n",
       "      <td>0.0000</td>\n",
       "      <td>40.0</td>\n",
       "      <td>50000.04</td>\n",
       "      <td>1576395</td>\n",
       "      <td>True</td>\n",
       "      <td>True</td>\n",
       "      <td>279</td>\n",
       "    </tr>\n",
       "    <tr>\n",
       "      <th>112589</th>\n",
       "      <td>STATE AUDITOR'S OFFICE                        ...</td>\n",
       "      <td>T</td>\n",
       "      <td>AUD2</td>\n",
       "      <td>AUDITOR II                                    ...</td>\n",
       "      <td>WHITE</td>\n",
       "      <td>MALE</td>\n",
       "      <td>URF - UNCLASSIFIED REGULAR FULL-TIME</td>\n",
       "      <td>0.0000</td>\n",
       "      <td>40.0</td>\n",
       "      <td>54000.00</td>\n",
       "      <td>1576407</td>\n",
       "      <td>True</td>\n",
       "      <td>True</td>\n",
       "      <td>279</td>\n",
       "    </tr>\n",
       "    <tr>\n",
       "      <th>112590</th>\n",
       "      <td>STATE AUDITOR'S OFFICE                        ...</td>\n",
       "      <td>H</td>\n",
       "      <td>AUD2</td>\n",
       "      <td>AUDITOR II                                    ...</td>\n",
       "      <td>WHITE</td>\n",
       "      <td>MALE</td>\n",
       "      <td>URF - UNCLASSIFIED REGULAR FULL-TIME</td>\n",
       "      <td>0.0000</td>\n",
       "      <td>40.0</td>\n",
       "      <td>50000.04</td>\n",
       "      <td>1576554</td>\n",
       "      <td>True</td>\n",
       "      <td>True</td>\n",
       "      <td>279</td>\n",
       "    </tr>\n",
       "    <tr>\n",
       "      <th>112591</th>\n",
       "      <td>STATE AUDITOR'S OFFICE                        ...</td>\n",
       "      <td>N</td>\n",
       "      <td>AUD4</td>\n",
       "      <td>AUDITOR IV                                    ...</td>\n",
       "      <td>HISPANIC</td>\n",
       "      <td>FEMALE</td>\n",
       "      <td>URF - UNCLASSIFIED REGULAR FULL-TIME</td>\n",
       "      <td>0.0000</td>\n",
       "      <td>40.0</td>\n",
       "      <td>68000.04</td>\n",
       "      <td>1577374</td>\n",
       "      <td>True</td>\n",
       "      <td>True</td>\n",
       "      <td>279</td>\n",
       "    </tr>\n",
       "    <tr>\n",
       "      <th>112592</th>\n",
       "      <td>TEXAS COMMISSION ON FIRE PROTECTION           ...</td>\n",
       "      <td>M</td>\n",
       "      <td>1784</td>\n",
       "      <td>TRAINING AND DEV SPEC IV                      ...</td>\n",
       "      <td>OTHER</td>\n",
       "      <td>FEMALE</td>\n",
       "      <td>CRF - CLASSIFIED REGULAR FULL-TIME</td>\n",
       "      <td>0.0000</td>\n",
       "      <td>40.0</td>\n",
       "      <td>51999.96</td>\n",
       "      <td>1579244</td>\n",
       "      <td>True</td>\n",
       "      <td>True</td>\n",
       "      <td>250</td>\n",
       "    </tr>\n",
       "  </tbody>\n",
       "</table>\n",
       "<p>112593 rows × 14 columns</p>\n",
       "</div>"
      ],
      "text/plain": [
       "                                                     NAME MI  JOBCLASS  \\\n",
       "0       TEXAS HIGHER EDUCATION COORDINATING BOARD     ...  C      7040   \n",
       "1       SENATE                                        ...         7104   \n",
       "2       COMPTROLLER OF PUBLIC ACCOUNTS, JUDICIARY SECT...  J  JD25       \n",
       "3       SCHOOL FOR THE BLIND AND VISUALLY IMPAIRED    ...  T      7354   \n",
       "4       SCHOOL FOR THE BLIND AND VISUALLY IMPAIRED    ...  T       154   \n",
       "...                                                   ... ..       ...   \n",
       "112588  STATE AUDITOR'S OFFICE                        ...  H  AUD2       \n",
       "112589  STATE AUDITOR'S OFFICE                        ...  T  AUD2       \n",
       "112590  STATE AUDITOR'S OFFICE                        ...  H  AUD2       \n",
       "112591  STATE AUDITOR'S OFFICE                        ...  N  AUD4       \n",
       "112592  TEXAS COMMISSION ON FIRE PROTECTION           ...  M      1784   \n",
       "\n",
       "                                                 JC.TITLE             RACE  \\\n",
       "0       PROJECT MANAGER                               ...  BLACK             \n",
       "1       LEGISLATIVE PROFESSIONAL                      ...  WHITE             \n",
       "2       JUDGE, RETIRED                                ...  WHITE             \n",
       "3       LIBRARY ASSISTANT II                          ...  WHITE             \n",
       "4       ADMINISTRATIVE ASSISTANT III                  ...  WHITE             \n",
       "...                                                   ...              ...   \n",
       "112588  AUDITOR II                                    ...  WHITE             \n",
       "112589  AUDITOR II                                    ...  WHITE             \n",
       "112590  AUDITOR II                                    ...  WHITE             \n",
       "112591  AUDITOR IV                                    ...  HISPANIC          \n",
       "112592  TRAINING AND DEV SPEC IV                      ...  OTHER             \n",
       "\n",
       "                    SEX                                   EMPTYPE     RATE  \\\n",
       "0       FEMALE           URF - UNCLASSIFIED REGULAR FULL-TIME       0.0000   \n",
       "1       FEMALE           URF - UNCLASSIFIED REGULAR FULL-TIME       0.0000   \n",
       "2       MALE             URP - UNCLASSIFIED REGULAR PART-TIME      75.9615   \n",
       "3       MALE             CRP - CLASSIFIED REGULAR PART-TIME         0.0000   \n",
       "4       MALE             CRP - CLASSIFIED REGULAR PART-TIME         0.0000   \n",
       "...                 ...                                       ...      ...   \n",
       "112588  MALE             URF - UNCLASSIFIED REGULAR FULL-TIME       0.0000   \n",
       "112589  MALE             URF - UNCLASSIFIED REGULAR FULL-TIME       0.0000   \n",
       "112590  MALE             URF - UNCLASSIFIED REGULAR FULL-TIME       0.0000   \n",
       "112591  FEMALE           URF - UNCLASSIFIED REGULAR FULL-TIME       0.0000   \n",
       "112592  FEMALE           CRF - CLASSIFIED REGULAR FULL-TIME         0.0000   \n",
       "\n",
       "        HRSWKD     ANNUAL  STATENUM  multiple_full_time_jobs  \\\n",
       "0         40.0   75000.00     32448                     True   \n",
       "1         41.0   65199.96     37375                     True   \n",
       "2         29.0  114549.84     59115                     True   \n",
       "3         20.0   21865.68     79455                     True   \n",
       "4         20.0   20294.76     79455                     True   \n",
       "...        ...        ...       ...                      ...   \n",
       "112588    40.0   50000.04   1576395                     True   \n",
       "112589    40.0   54000.00   1576407                     True   \n",
       "112590    40.0   50000.04   1576554                     True   \n",
       "112591    40.0   68000.04   1577374                     True   \n",
       "112592    40.0   51999.96   1579244                     True   \n",
       "\n",
       "        combined_multiple_jobs  daysexperience  \n",
       "0                         True             310  \n",
       "1                         True            6820  \n",
       "2                         True            1344  \n",
       "3                         True            8766  \n",
       "4                         True            8766  \n",
       "...                        ...             ...  \n",
       "112588                    True             279  \n",
       "112589                    True             279  \n",
       "112590                    True             279  \n",
       "112591                    True             279  \n",
       "112592                    True             250  \n",
       "\n",
       "[112593 rows x 14 columns]"
      ]
     },
     "execution_count": 5,
     "metadata": {},
     "output_type": "execute_result"
    }
   ],
   "source": [
    "data"
   ]
  },
  {
   "cell_type": "code",
   "execution_count": 6,
   "id": "6f5734de",
   "metadata": {},
   "outputs": [],
   "source": [
    "from sklearn.preprocessing import OneHotEncoder\n",
    "from sklearn.compose import make_column_transformer\n",
    "from sklearn.pipeline import Pipeline\n",
    "from sklearn.neural_network import MLPRegressor\n",
    "regressor = MLPRegressor(random_state=1, max_iter=500)\n",
    "\n",
    "transformer = make_column_transformer(\n",
    "    (OneHotEncoder(handle_unknown = 'infrequent_if_exist'), data_to_onehot),\n",
    "    remainder = 'passthrough',\n",
    ")\n",
    "pipe = Pipeline([('transformer', transformer), ('regressor', regressor)])"
   ]
  },
  {
   "cell_type": "markdown",
   "id": "c3061469",
   "metadata": {},
   "source": [
    "transformed = transformer.fit_transform(data)\n",
    "transformed_df = pd.DataFrame(\n",
    "    transformed, \n",
    "    columns=transformer.get_feature_names()\n",
    ")\n",
    "transformed_df"
   ]
  },
  {
   "cell_type": "code",
   "execution_count": 7,
   "id": "8534dc1a",
   "metadata": {},
   "outputs": [],
   "source": [
    "#data_onehot = pd.get_dummies(data, columns=data_to_onehot)"
   ]
  },
  {
   "cell_type": "code",
   "execution_count": 8,
   "id": "032851ab",
   "metadata": {},
   "outputs": [],
   "source": [
    "from sklearn.model_selection import train_test_split\n",
    "X = data.drop('ANNUAL', axis=1)\n",
    "y = data.ANNUAL\n",
    "\n",
    "X_train, X_test, y_train, y_test = train_test_split(X, y, test_size=1/3)"
   ]
  },
  {
   "cell_type": "markdown",
   "id": "56f740ab",
   "metadata": {},
   "source": [
    "outliers_level = 0.05/100\n",
    "d01 = y_train.quantile(q=outliers_level)\n",
    "d99 = y_train.quantile(q=1-outliers_level)\n",
    "\n",
    "outliers = y_train.index[(y_train < d01) | (y_train > d99)].tolist()\n",
    "\n",
    "X_train.drop(outliers, inplace=True)\n",
    "y_train.drop(outliers, inplace=True)"
   ]
  },
  {
   "cell_type": "code",
   "execution_count": 9,
   "id": "ec89ad14",
   "metadata": {},
   "outputs": [
    {
     "name": "stderr",
     "output_type": "stream",
     "text": [
      "/Users/clement/.virtualenvs/jupyter/lib/python3.11/site-packages/sklearn/neural_network/_multilayer_perceptron.py:693: UserWarning: Training interrupted by user.\n",
      "  warnings.warn(\"Training interrupted by user.\")\n"
     ]
    },
    {
     "data": {
      "text/html": [
       "<style>#sk-container-id-1 {color: black;background-color: white;}#sk-container-id-1 pre{padding: 0;}#sk-container-id-1 div.sk-toggleable {background-color: white;}#sk-container-id-1 label.sk-toggleable__label {cursor: pointer;display: block;width: 100%;margin-bottom: 0;padding: 0.3em;box-sizing: border-box;text-align: center;}#sk-container-id-1 label.sk-toggleable__label-arrow:before {content: \"▸\";float: left;margin-right: 0.25em;color: #696969;}#sk-container-id-1 label.sk-toggleable__label-arrow:hover:before {color: black;}#sk-container-id-1 div.sk-estimator:hover label.sk-toggleable__label-arrow:before {color: black;}#sk-container-id-1 div.sk-toggleable__content {max-height: 0;max-width: 0;overflow: hidden;text-align: left;background-color: #f0f8ff;}#sk-container-id-1 div.sk-toggleable__content pre {margin: 0.2em;color: black;border-radius: 0.25em;background-color: #f0f8ff;}#sk-container-id-1 input.sk-toggleable__control:checked~div.sk-toggleable__content {max-height: 200px;max-width: 100%;overflow: auto;}#sk-container-id-1 input.sk-toggleable__control:checked~label.sk-toggleable__label-arrow:before {content: \"▾\";}#sk-container-id-1 div.sk-estimator input.sk-toggleable__control:checked~label.sk-toggleable__label {background-color: #d4ebff;}#sk-container-id-1 div.sk-label input.sk-toggleable__control:checked~label.sk-toggleable__label {background-color: #d4ebff;}#sk-container-id-1 input.sk-hidden--visually {border: 0;clip: rect(1px 1px 1px 1px);clip: rect(1px, 1px, 1px, 1px);height: 1px;margin: -1px;overflow: hidden;padding: 0;position: absolute;width: 1px;}#sk-container-id-1 div.sk-estimator {font-family: monospace;background-color: #f0f8ff;border: 1px dotted black;border-radius: 0.25em;box-sizing: border-box;margin-bottom: 0.5em;}#sk-container-id-1 div.sk-estimator:hover {background-color: #d4ebff;}#sk-container-id-1 div.sk-parallel-item::after {content: \"\";width: 100%;border-bottom: 1px solid gray;flex-grow: 1;}#sk-container-id-1 div.sk-label:hover label.sk-toggleable__label {background-color: #d4ebff;}#sk-container-id-1 div.sk-serial::before {content: \"\";position: absolute;border-left: 1px solid gray;box-sizing: border-box;top: 0;bottom: 0;left: 50%;z-index: 0;}#sk-container-id-1 div.sk-serial {display: flex;flex-direction: column;align-items: center;background-color: white;padding-right: 0.2em;padding-left: 0.2em;position: relative;}#sk-container-id-1 div.sk-item {position: relative;z-index: 1;}#sk-container-id-1 div.sk-parallel {display: flex;align-items: stretch;justify-content: center;background-color: white;position: relative;}#sk-container-id-1 div.sk-item::before, #sk-container-id-1 div.sk-parallel-item::before {content: \"\";position: absolute;border-left: 1px solid gray;box-sizing: border-box;top: 0;bottom: 0;left: 50%;z-index: -1;}#sk-container-id-1 div.sk-parallel-item {display: flex;flex-direction: column;z-index: 1;position: relative;background-color: white;}#sk-container-id-1 div.sk-parallel-item:first-child::after {align-self: flex-end;width: 50%;}#sk-container-id-1 div.sk-parallel-item:last-child::after {align-self: flex-start;width: 50%;}#sk-container-id-1 div.sk-parallel-item:only-child::after {width: 0;}#sk-container-id-1 div.sk-dashed-wrapped {border: 1px dashed gray;margin: 0 0.4em 0.5em 0.4em;box-sizing: border-box;padding-bottom: 0.4em;background-color: white;}#sk-container-id-1 div.sk-label label {font-family: monospace;font-weight: bold;display: inline-block;line-height: 1.2em;}#sk-container-id-1 div.sk-label-container {text-align: center;}#sk-container-id-1 div.sk-container {/* jupyter's `normalize.less` sets `[hidden] { display: none; }` but bootstrap.min.css set `[hidden] { display: none !important; }` so we also need the `!important` here to be able to override the default hidden behavior on the sphinx rendered scikit-learn.org. See: https://github.com/scikit-learn/scikit-learn/issues/21755 */display: inline-block !important;position: relative;}#sk-container-id-1 div.sk-text-repr-fallback {display: none;}</style><div id=\"sk-container-id-1\" class=\"sk-top-container\"><div class=\"sk-text-repr-fallback\"><pre>Pipeline(steps=[(&#x27;transformer&#x27;,\n",
       "                 ColumnTransformer(remainder=&#x27;passthrough&#x27;,\n",
       "                                   transformers=[(&#x27;onehotencoder&#x27;,\n",
       "                                                  OneHotEncoder(handle_unknown=&#x27;infrequent_if_exist&#x27;),\n",
       "                                                  [&#x27;NAME&#x27;, &#x27;MI&#x27;, &#x27;JOBCLASS&#x27;,\n",
       "                                                   &#x27;JC.TITLE&#x27;, &#x27;RACE&#x27;, &#x27;SEX&#x27;,\n",
       "                                                   &#x27;EMPTYPE&#x27;, &#x27;STATENUM&#x27;,\n",
       "                                                   &#x27;multiple_full_time_jobs&#x27;,\n",
       "                                                   &#x27;combined_multiple_jobs&#x27;])])),\n",
       "                (&#x27;regressor&#x27;, MLPRegressor(max_iter=500, random_state=1))])</pre><b>In a Jupyter environment, please rerun this cell to show the HTML representation or trust the notebook. <br />On GitHub, the HTML representation is unable to render, please try loading this page with nbviewer.org.</b></div><div class=\"sk-container\" hidden><div class=\"sk-item sk-dashed-wrapped\"><div class=\"sk-label-container\"><div class=\"sk-label sk-toggleable\"><input class=\"sk-toggleable__control sk-hidden--visually\" id=\"sk-estimator-id-1\" type=\"checkbox\" ><label for=\"sk-estimator-id-1\" class=\"sk-toggleable__label sk-toggleable__label-arrow\">Pipeline</label><div class=\"sk-toggleable__content\"><pre>Pipeline(steps=[(&#x27;transformer&#x27;,\n",
       "                 ColumnTransformer(remainder=&#x27;passthrough&#x27;,\n",
       "                                   transformers=[(&#x27;onehotencoder&#x27;,\n",
       "                                                  OneHotEncoder(handle_unknown=&#x27;infrequent_if_exist&#x27;),\n",
       "                                                  [&#x27;NAME&#x27;, &#x27;MI&#x27;, &#x27;JOBCLASS&#x27;,\n",
       "                                                   &#x27;JC.TITLE&#x27;, &#x27;RACE&#x27;, &#x27;SEX&#x27;,\n",
       "                                                   &#x27;EMPTYPE&#x27;, &#x27;STATENUM&#x27;,\n",
       "                                                   &#x27;multiple_full_time_jobs&#x27;,\n",
       "                                                   &#x27;combined_multiple_jobs&#x27;])])),\n",
       "                (&#x27;regressor&#x27;, MLPRegressor(max_iter=500, random_state=1))])</pre></div></div></div><div class=\"sk-serial\"><div class=\"sk-item sk-dashed-wrapped\"><div class=\"sk-label-container\"><div class=\"sk-label sk-toggleable\"><input class=\"sk-toggleable__control sk-hidden--visually\" id=\"sk-estimator-id-2\" type=\"checkbox\" ><label for=\"sk-estimator-id-2\" class=\"sk-toggleable__label sk-toggleable__label-arrow\">transformer: ColumnTransformer</label><div class=\"sk-toggleable__content\"><pre>ColumnTransformer(remainder=&#x27;passthrough&#x27;,\n",
       "                  transformers=[(&#x27;onehotencoder&#x27;,\n",
       "                                 OneHotEncoder(handle_unknown=&#x27;infrequent_if_exist&#x27;),\n",
       "                                 [&#x27;NAME&#x27;, &#x27;MI&#x27;, &#x27;JOBCLASS&#x27;, &#x27;JC.TITLE&#x27;, &#x27;RACE&#x27;,\n",
       "                                  &#x27;SEX&#x27;, &#x27;EMPTYPE&#x27;, &#x27;STATENUM&#x27;,\n",
       "                                  &#x27;multiple_full_time_jobs&#x27;,\n",
       "                                  &#x27;combined_multiple_jobs&#x27;])])</pre></div></div></div><div class=\"sk-parallel\"><div class=\"sk-parallel-item\"><div class=\"sk-item\"><div class=\"sk-label-container\"><div class=\"sk-label sk-toggleable\"><input class=\"sk-toggleable__control sk-hidden--visually\" id=\"sk-estimator-id-3\" type=\"checkbox\" ><label for=\"sk-estimator-id-3\" class=\"sk-toggleable__label sk-toggleable__label-arrow\">onehotencoder</label><div class=\"sk-toggleable__content\"><pre>[&#x27;NAME&#x27;, &#x27;MI&#x27;, &#x27;JOBCLASS&#x27;, &#x27;JC.TITLE&#x27;, &#x27;RACE&#x27;, &#x27;SEX&#x27;, &#x27;EMPTYPE&#x27;, &#x27;STATENUM&#x27;, &#x27;multiple_full_time_jobs&#x27;, &#x27;combined_multiple_jobs&#x27;]</pre></div></div></div><div class=\"sk-serial\"><div class=\"sk-item\"><div class=\"sk-estimator sk-toggleable\"><input class=\"sk-toggleable__control sk-hidden--visually\" id=\"sk-estimator-id-4\" type=\"checkbox\" ><label for=\"sk-estimator-id-4\" class=\"sk-toggleable__label sk-toggleable__label-arrow\">OneHotEncoder</label><div class=\"sk-toggleable__content\"><pre>OneHotEncoder(handle_unknown=&#x27;infrequent_if_exist&#x27;)</pre></div></div></div></div></div></div><div class=\"sk-parallel-item\"><div class=\"sk-item\"><div class=\"sk-label-container\"><div class=\"sk-label sk-toggleable\"><input class=\"sk-toggleable__control sk-hidden--visually\" id=\"sk-estimator-id-5\" type=\"checkbox\" ><label for=\"sk-estimator-id-5\" class=\"sk-toggleable__label sk-toggleable__label-arrow\">remainder</label><div class=\"sk-toggleable__content\"><pre>[&#x27;RATE&#x27;, &#x27;HRSWKD&#x27;, &#x27;daysexperience&#x27;]</pre></div></div></div><div class=\"sk-serial\"><div class=\"sk-item\"><div class=\"sk-estimator sk-toggleable\"><input class=\"sk-toggleable__control sk-hidden--visually\" id=\"sk-estimator-id-6\" type=\"checkbox\" ><label for=\"sk-estimator-id-6\" class=\"sk-toggleable__label sk-toggleable__label-arrow\">passthrough</label><div class=\"sk-toggleable__content\"><pre>passthrough</pre></div></div></div></div></div></div></div></div><div class=\"sk-item\"><div class=\"sk-estimator sk-toggleable\"><input class=\"sk-toggleable__control sk-hidden--visually\" id=\"sk-estimator-id-7\" type=\"checkbox\" ><label for=\"sk-estimator-id-7\" class=\"sk-toggleable__label sk-toggleable__label-arrow\">MLPRegressor</label><div class=\"sk-toggleable__content\"><pre>MLPRegressor(max_iter=500, random_state=1)</pre></div></div></div></div></div></div></div>"
      ],
      "text/plain": [
       "Pipeline(steps=[('transformer',\n",
       "                 ColumnTransformer(remainder='passthrough',\n",
       "                                   transformers=[('onehotencoder',\n",
       "                                                  OneHotEncoder(handle_unknown='infrequent_if_exist'),\n",
       "                                                  ['NAME', 'MI', 'JOBCLASS',\n",
       "                                                   'JC.TITLE', 'RACE', 'SEX',\n",
       "                                                   'EMPTYPE', 'STATENUM',\n",
       "                                                   'multiple_full_time_jobs',\n",
       "                                                   'combined_multiple_jobs'])])),\n",
       "                ('regressor', MLPRegressor(max_iter=500, random_state=1))])"
      ]
     },
     "execution_count": 9,
     "metadata": {},
     "output_type": "execute_result"
    }
   ],
   "source": [
    "pipe.fit(X_train, y_train)"
   ]
  },
  {
   "cell_type": "code",
   "execution_count": 10,
   "id": "c029c81d",
   "metadata": {},
   "outputs": [],
   "source": [
    "y_pred = pipe.predict(X_test)"
   ]
  },
  {
   "cell_type": "code",
   "execution_count": 11,
   "id": "1f97063a",
   "metadata": {},
   "outputs": [
    {
     "data": {
      "text/plain": [
       "0.7461467914865298"
      ]
     },
     "execution_count": 11,
     "metadata": {},
     "output_type": "execute_result"
    }
   ],
   "source": [
    "pipe.score(X_test, y_test)"
   ]
  },
  {
   "cell_type": "code",
   "execution_count": 12,
   "id": "d27d0809",
   "metadata": {},
   "outputs": [],
   "source": [
    "res = pd.DataFrame(y_test)\n",
    "res['pred'] = y_pred\n",
    "res['diff'] = res.pred - res.ANNUAL\n",
    "res['diff'] = res['diff'].apply(abs)"
   ]
  },
  {
   "cell_type": "code",
   "execution_count": 13,
   "id": "0ec0f288",
   "metadata": {},
   "outputs": [
    {
     "data": {
      "text/plain": [
       "6290.188792893038"
      ]
     },
     "execution_count": 13,
     "metadata": {},
     "output_type": "execute_result"
    }
   ],
   "source": [
    "res['diff'].mean()"
   ]
  },
  {
   "cell_type": "code",
   "execution_count": 14,
   "id": "51f23e7c",
   "metadata": {},
   "outputs": [
    {
     "data": {
      "text/plain": [
       "0.6297293979571377"
      ]
     },
     "execution_count": 14,
     "metadata": {},
     "output_type": "execute_result"
    }
   ],
   "source": [
    "from sklearn.metrics import r2_score\n",
    "r2_score(y_pred, y_test)"
   ]
  }
 ],
 "metadata": {
  "kernelspec": {
   "display_name": "Python 3 (ipykernel)",
   "language": "python",
   "name": "python3"
  },
  "language_info": {
   "codemirror_mode": {
    "name": "ipython",
    "version": 3
   },
   "file_extension": ".py",
   "mimetype": "text/x-python",
   "name": "python",
   "nbconvert_exporter": "python",
   "pygments_lexer": "ipython3",
   "version": "3.11.2"
  }
 },
 "nbformat": 4,
 "nbformat_minor": 5
}
